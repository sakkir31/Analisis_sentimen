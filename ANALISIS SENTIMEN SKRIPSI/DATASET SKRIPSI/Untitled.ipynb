{
 "cells": [
  {
   "cell_type": "code",
   "execution_count": 1,
   "id": "e42a7bdf",
   "metadata": {},
   "outputs": [],
   "source": [
    "import pandas as pd\n",
    "import re\n",
    "import seaborn as sns\n",
    "import matplotlib.pyplot as plt"
   ]
  },
  {
   "cell_type": "code",
   "execution_count": 2,
   "id": "a6f19121",
   "metadata": {},
   "outputs": [
    {
     "data": {
      "text/html": [
       "<div>\n",
       "<style scoped>\n",
       "    .dataframe tbody tr th:only-of-type {\n",
       "        vertical-align: middle;\n",
       "    }\n",
       "\n",
       "    .dataframe tbody tr th {\n",
       "        vertical-align: top;\n",
       "    }\n",
       "\n",
       "    .dataframe thead th {\n",
       "        text-align: right;\n",
       "    }\n",
       "</style>\n",
       "<table border=\"1\" class=\"dataframe\">\n",
       "  <thead>\n",
       "    <tr style=\"text-align: right;\">\n",
       "      <th></th>\n",
       "      <th>full_text</th>\n",
       "      <th>sentimen</th>\n",
       "    </tr>\n",
       "  </thead>\n",
       "  <tbody>\n",
       "    <tr>\n",
       "      <th>0</th>\n",
       "      <td>@ekowboy2 . Ambil Bansosnya  Pilihannya tetap ...</td>\n",
       "      <td>positif</td>\n",
       "    </tr>\n",
       "    <tr>\n",
       "      <th>1</th>\n",
       "      <td>@alisyarief @PDemokrat Yg melekat di masyaraka...</td>\n",
       "      <td>NaN</td>\n",
       "    </tr>\n",
       "    <tr>\n",
       "      <th>2</th>\n",
       "      <td>@Dahnilanzar @prabowo @gibran_tweet padahal @F...</td>\n",
       "      <td>negatif</td>\n",
       "    </tr>\n",
       "    <tr>\n",
       "      <th>3</th>\n",
       "      <td>@Utiah_Mak Aamiin alhamdulillah Smg hasil ini ...</td>\n",
       "      <td>positif</td>\n",
       "    </tr>\n",
       "    <tr>\n",
       "      <th>4</th>\n",
       "      <td>Ratusan Personel Gabungan Disiapkan Amankan Ka...</td>\n",
       "      <td>positif</td>\n",
       "    </tr>\n",
       "    <tr>\n",
       "      <th>...</th>\n",
       "      <td>...</td>\n",
       "      <td>...</td>\n",
       "    </tr>\n",
       "    <tr>\n",
       "      <th>1472</th>\n",
       "      <td>Faktanya CUPU sok SUHU..  #anakpresiden #Ganja...</td>\n",
       "      <td>negatif</td>\n",
       "    </tr>\n",
       "    <tr>\n",
       "      <th>1473</th>\n",
       "      <td>@cagubnyinyir2 @BoyMantouw @mas_alku @wonggend...</td>\n",
       "      <td>negatif</td>\n",
       "    </tr>\n",
       "    <tr>\n",
       "      <th>1474</th>\n",
       "      <td>@Andi54582715 @Omnya_Gibran @jokowi Memang Klo...</td>\n",
       "      <td>negatif</td>\n",
       "    </tr>\n",
       "    <tr>\n",
       "      <th>1475</th>\n",
       "      <td>Jelaskan Jangan Membodohi Rakyat dan Pengamat ...</td>\n",
       "      <td>negatif</td>\n",
       "    </tr>\n",
       "    <tr>\n",
       "      <th>1476</th>\n",
       "      <td>@xquitavee GanjarMahfud terbaik. Tidak nyulik ...</td>\n",
       "      <td>negatif</td>\n",
       "    </tr>\n",
       "  </tbody>\n",
       "</table>\n",
       "<p>1477 rows × 2 columns</p>\n",
       "</div>"
      ],
      "text/plain": [
       "                                              full_text sentimen\n",
       "0     @ekowboy2 . Ambil Bansosnya  Pilihannya tetap ...  positif\n",
       "1     @alisyarief @PDemokrat Yg melekat di masyaraka...      NaN\n",
       "2     @Dahnilanzar @prabowo @gibran_tweet padahal @F...  negatif\n",
       "3     @Utiah_Mak Aamiin alhamdulillah Smg hasil ini ...  positif\n",
       "4     Ratusan Personel Gabungan Disiapkan Amankan Ka...  positif\n",
       "...                                                 ...      ...\n",
       "1472  Faktanya CUPU sok SUHU..  #anakpresiden #Ganja...  negatif\n",
       "1473  @cagubnyinyir2 @BoyMantouw @mas_alku @wonggend...  negatif\n",
       "1474  @Andi54582715 @Omnya_Gibran @jokowi Memang Klo...  negatif\n",
       "1475  Jelaskan Jangan Membodohi Rakyat dan Pengamat ...  negatif\n",
       "1476  @xquitavee GanjarMahfud terbaik. Tidak nyulik ...  negatif\n",
       "\n",
       "[1477 rows x 2 columns]"
      ]
     },
     "execution_count": 2,
     "metadata": {},
     "output_type": "execute_result"
    }
   ],
   "source": [
    "# Read the CSV file into a pandas DataFrame\n",
    "df1 = pd.read_csv('data_anis.csv')\n",
    "df2 = pd.read_csv('data_anisNeg.csv')\n",
    "\n",
    "df = [df1, df2]\n",
    "df = pd.concat(df, ignore_index=True)\n",
    "df\n",
    "\n",
    "# Display the DataFrame\n",
    "data = df[['full_text','sentimen']]\n",
    "data"
   ]
  },
  {
   "cell_type": "markdown",
   "id": "6ea310cb",
   "metadata": {},
   "source": [
    "### Bersihkan Data"
   ]
  },
  {
   "cell_type": "code",
   "execution_count": 3,
   "id": "7582f643",
   "metadata": {},
   "outputs": [
    {
     "data": {
      "text/plain": [
       "full_text      1\n",
       "sentimen     167\n",
       "dtype: int64"
      ]
     },
     "execution_count": 3,
     "metadata": {},
     "output_type": "execute_result"
    }
   ],
   "source": [
    "# melihat dan Hapus data yang kosong\n",
    "data.isnull().sum()"
   ]
  },
  {
   "cell_type": "code",
   "execution_count": 4,
   "id": "17f6717a",
   "metadata": {},
   "outputs": [
    {
     "data": {
      "text/plain": [
       "full_text    0\n",
       "sentimen     0\n",
       "dtype: int64"
      ]
     },
     "execution_count": 4,
     "metadata": {},
     "output_type": "execute_result"
    }
   ],
   "source": [
    "data = data.dropna()\n",
    "data.isnull().sum()"
   ]
  },
  {
   "cell_type": "code",
   "execution_count": 5,
   "id": "b14ce872",
   "metadata": {},
   "outputs": [
    {
     "data": {
      "text/plain": [
       "10"
      ]
     },
     "execution_count": 5,
     "metadata": {},
     "output_type": "execute_result"
    }
   ],
   "source": [
    "# melihat data yang duplicate dan menghapusnya\n",
    "data.duplicated().sum()"
   ]
  },
  {
   "cell_type": "code",
   "execution_count": 6,
   "id": "64d14f84",
   "metadata": {},
   "outputs": [
    {
     "data": {
      "text/plain": [
       "0"
      ]
     },
     "execution_count": 6,
     "metadata": {},
     "output_type": "execute_result"
    }
   ],
   "source": [
    "data = data.drop_duplicates()\n",
    "data.duplicated().sum()"
   ]
  },
  {
   "cell_type": "code",
   "execution_count": 7,
   "id": "9177998b",
   "metadata": {},
   "outputs": [
    {
     "data": {
      "text/plain": [
       "(1299, 2)"
      ]
     },
     "execution_count": 7,
     "metadata": {},
     "output_type": "execute_result"
    }
   ],
   "source": [
    "data.shape"
   ]
  },
  {
   "cell_type": "code",
   "execution_count": 8,
   "id": "008a69d9",
   "metadata": {},
   "outputs": [],
   "source": [
    "# fungsi menghapus karakter khusus\n",
    "def clean_twitter_text(text):\n",
    "    text = re.sub(r'@[A-Za-z0-9_]+', '', text)\n",
    "    text = re.sub(r'#\\w+', '', text)\n",
    "    text = re.sub(r'RT[\\s]+', '', text)\n",
    "    text = re.sub(r'https?://\\S+', '', text)\n",
    "    \n",
    "    text = re.sub(r'[^A-Za-z0-9 ]', '', text)\n",
    "    text = re.sub(r'\\s+', ' ', text).strip()\n",
    "    \n",
    "    return text\n",
    "\n",
    "data['full_text'] = data['full_text'].apply(clean_twitter_text)"
   ]
  },
  {
   "cell_type": "code",
   "execution_count": 9,
   "id": "92f222bd",
   "metadata": {},
   "outputs": [
    {
     "data": {
      "text/plain": [
       "72"
      ]
     },
     "execution_count": 9,
     "metadata": {},
     "output_type": "execute_result"
    }
   ],
   "source": [
    "# melihat data yang sama lagi\n",
    "data.duplicated().sum()"
   ]
  },
  {
   "cell_type": "code",
   "execution_count": 10,
   "id": "a85d6472",
   "metadata": {},
   "outputs": [
    {
     "data": {
      "text/plain": [
       "0"
      ]
     },
     "execution_count": 10,
     "metadata": {},
     "output_type": "execute_result"
    }
   ],
   "source": [
    "data = data.drop_duplicates()\n",
    "data.duplicated().sum()"
   ]
  },
  {
   "cell_type": "code",
   "execution_count": 12,
   "id": "71aacec2",
   "metadata": {},
   "outputs": [
    {
     "data": {
      "text/plain": [
       "full_text    0\n",
       "sentimen     0\n",
       "dtype: int64"
      ]
     },
     "execution_count": 12,
     "metadata": {},
     "output_type": "execute_result"
    }
   ],
   "source": [
    "# Melihat data yang kosong\n",
    "data.isnull().sum()"
   ]
  },
  {
   "cell_type": "code",
   "execution_count": 13,
   "id": "4a262857",
   "metadata": {},
   "outputs": [
    {
     "data": {
      "text/html": [
       "<div>\n",
       "<style scoped>\n",
       "    .dataframe tbody tr th:only-of-type {\n",
       "        vertical-align: middle;\n",
       "    }\n",
       "\n",
       "    .dataframe tbody tr th {\n",
       "        vertical-align: top;\n",
       "    }\n",
       "\n",
       "    .dataframe thead th {\n",
       "        text-align: right;\n",
       "    }\n",
       "</style>\n",
       "<table border=\"1\" class=\"dataframe\">\n",
       "  <thead>\n",
       "    <tr style=\"text-align: right;\">\n",
       "      <th></th>\n",
       "      <th>full_text</th>\n",
       "      <th>sentimen</th>\n",
       "    </tr>\n",
       "  </thead>\n",
       "  <tbody>\n",
       "    <tr>\n",
       "      <th>0</th>\n",
       "      <td>Ambil Bansosnya Pilihannya tetap No1 AMIN ANIS...</td>\n",
       "      <td>positif</td>\n",
       "    </tr>\n",
       "    <tr>\n",
       "      <th>2</th>\n",
       "      <td>padahal bilang AnisMuhaimin bakal jadi tersang...</td>\n",
       "      <td>negatif</td>\n",
       "    </tr>\n",
       "    <tr>\n",
       "      <th>3</th>\n",
       "      <td>Aamiin alhamdulillah Smg hasil ini sama hasily...</td>\n",
       "      <td>positif</td>\n",
       "    </tr>\n",
       "    <tr>\n",
       "      <th>4</th>\n",
       "      <td>Ratusan Personel Gabungan Disiapkan Amankan Ka...</td>\n",
       "      <td>positif</td>\n",
       "    </tr>\n",
       "    <tr>\n",
       "      <th>5</th>\n",
       "      <td>Amin Asal jangan Anis Muhaimin</td>\n",
       "      <td>negatif</td>\n",
       "    </tr>\n",
       "    <tr>\n",
       "      <th>...</th>\n",
       "      <td>...</td>\n",
       "      <td>...</td>\n",
       "    </tr>\n",
       "    <tr>\n",
       "      <th>1472</th>\n",
       "      <td>Faktanya CUPU sok SUHU</td>\n",
       "      <td>negatif</td>\n",
       "    </tr>\n",
       "    <tr>\n",
       "      <th>1473</th>\n",
       "      <td>Terpaksa kayanya Harus nurut sama emak</td>\n",
       "      <td>negatif</td>\n",
       "    </tr>\n",
       "    <tr>\n",
       "      <th>1474</th>\n",
       "      <td>Memang Klo pengkianat itu sekali melakukan unt...</td>\n",
       "      <td>negatif</td>\n",
       "    </tr>\n",
       "    <tr>\n",
       "      <th>1475</th>\n",
       "      <td>Jelaskan Jangan Membodohi Rakyat dan Pengamat ...</td>\n",
       "      <td>negatif</td>\n",
       "    </tr>\n",
       "    <tr>\n",
       "      <th>1476</th>\n",
       "      <td>GanjarMahfud terbaik Tidak nyulik Tidak kangka...</td>\n",
       "      <td>negatif</td>\n",
       "    </tr>\n",
       "  </tbody>\n",
       "</table>\n",
       "<p>1227 rows × 2 columns</p>\n",
       "</div>"
      ],
      "text/plain": [
       "                                              full_text sentimen\n",
       "0     Ambil Bansosnya Pilihannya tetap No1 AMIN ANIS...  positif\n",
       "2     padahal bilang AnisMuhaimin bakal jadi tersang...  negatif\n",
       "3     Aamiin alhamdulillah Smg hasil ini sama hasily...  positif\n",
       "4     Ratusan Personel Gabungan Disiapkan Amankan Ka...  positif\n",
       "5                        Amin Asal jangan Anis Muhaimin  negatif\n",
       "...                                                 ...      ...\n",
       "1472                             Faktanya CUPU sok SUHU  negatif\n",
       "1473             Terpaksa kayanya Harus nurut sama emak  negatif\n",
       "1474  Memang Klo pengkianat itu sekali melakukan unt...  negatif\n",
       "1475  Jelaskan Jangan Membodohi Rakyat dan Pengamat ...  negatif\n",
       "1476  GanjarMahfud terbaik Tidak nyulik Tidak kangka...  negatif\n",
       "\n",
       "[1227 rows x 2 columns]"
      ]
     },
     "execution_count": 13,
     "metadata": {},
     "output_type": "execute_result"
    }
   ],
   "source": [
    "data"
   ]
  },
  {
   "cell_type": "markdown",
   "id": "a1bee294",
   "metadata": {},
   "source": [
    "# Preprocessing Text"
   ]
  },
  {
   "cell_type": "markdown",
   "id": "dcd56952",
   "metadata": {},
   "source": [
    "### 1. Case Folding"
   ]
  },
  {
   "cell_type": "code",
   "execution_count": 15,
   "id": "38c017d4",
   "metadata": {},
   "outputs": [
    {
     "name": "stderr",
     "output_type": "stream",
     "text": [
      "C:\\Users\\PC\\AppData\\Local\\Temp\\ipykernel_15792\\2108421011.py:2: SettingWithCopyWarning: \n",
      "A value is trying to be set on a copy of a slice from a DataFrame.\n",
      "Try using .loc[row_indexer,col_indexer] = value instead\n",
      "\n",
      "See the caveats in the documentation: https://pandas.pydata.org/pandas-docs/stable/user_guide/indexing.html#returning-a-view-versus-a-copy\n",
      "  data['full_text'] = data['full_text'].str.lower()\n"
     ]
    },
    {
     "data": {
      "text/html": [
       "<div>\n",
       "<style scoped>\n",
       "    .dataframe tbody tr th:only-of-type {\n",
       "        vertical-align: middle;\n",
       "    }\n",
       "\n",
       "    .dataframe tbody tr th {\n",
       "        vertical-align: top;\n",
       "    }\n",
       "\n",
       "    .dataframe thead th {\n",
       "        text-align: right;\n",
       "    }\n",
       "</style>\n",
       "<table border=\"1\" class=\"dataframe\">\n",
       "  <thead>\n",
       "    <tr style=\"text-align: right;\">\n",
       "      <th></th>\n",
       "      <th>full_text</th>\n",
       "      <th>sentimen</th>\n",
       "    </tr>\n",
       "  </thead>\n",
       "  <tbody>\n",
       "    <tr>\n",
       "      <th>0</th>\n",
       "      <td>ambil bansosnya pilihannya tetap no1 amin anis...</td>\n",
       "      <td>positif</td>\n",
       "    </tr>\n",
       "    <tr>\n",
       "      <th>2</th>\n",
       "      <td>padahal bilang anismuhaimin bakal jadi tersang...</td>\n",
       "      <td>negatif</td>\n",
       "    </tr>\n",
       "    <tr>\n",
       "      <th>3</th>\n",
       "      <td>aamiin alhamdulillah smg hasil ini sama hasily...</td>\n",
       "      <td>positif</td>\n",
       "    </tr>\n",
       "    <tr>\n",
       "      <th>4</th>\n",
       "      <td>ratusan personel gabungan disiapkan amankan ka...</td>\n",
       "      <td>positif</td>\n",
       "    </tr>\n",
       "    <tr>\n",
       "      <th>5</th>\n",
       "      <td>amin asal jangan anis muhaimin</td>\n",
       "      <td>negatif</td>\n",
       "    </tr>\n",
       "    <tr>\n",
       "      <th>...</th>\n",
       "      <td>...</td>\n",
       "      <td>...</td>\n",
       "    </tr>\n",
       "    <tr>\n",
       "      <th>1472</th>\n",
       "      <td>faktanya cupu sok suhu</td>\n",
       "      <td>negatif</td>\n",
       "    </tr>\n",
       "    <tr>\n",
       "      <th>1473</th>\n",
       "      <td>terpaksa kayanya harus nurut sama emak</td>\n",
       "      <td>negatif</td>\n",
       "    </tr>\n",
       "    <tr>\n",
       "      <th>1474</th>\n",
       "      <td>memang klo pengkianat itu sekali melakukan unt...</td>\n",
       "      <td>negatif</td>\n",
       "    </tr>\n",
       "    <tr>\n",
       "      <th>1475</th>\n",
       "      <td>jelaskan jangan membodohi rakyat dan pengamat ...</td>\n",
       "      <td>negatif</td>\n",
       "    </tr>\n",
       "    <tr>\n",
       "      <th>1476</th>\n",
       "      <td>ganjarmahfud terbaik tidak nyulik tidak kangka...</td>\n",
       "      <td>negatif</td>\n",
       "    </tr>\n",
       "  </tbody>\n",
       "</table>\n",
       "<p>1227 rows × 2 columns</p>\n",
       "</div>"
      ],
      "text/plain": [
       "                                              full_text sentimen\n",
       "0     ambil bansosnya pilihannya tetap no1 amin anis...  positif\n",
       "2     padahal bilang anismuhaimin bakal jadi tersang...  negatif\n",
       "3     aamiin alhamdulillah smg hasil ini sama hasily...  positif\n",
       "4     ratusan personel gabungan disiapkan amankan ka...  positif\n",
       "5                        amin asal jangan anis muhaimin  negatif\n",
       "...                                                 ...      ...\n",
       "1472                             faktanya cupu sok suhu  negatif\n",
       "1473             terpaksa kayanya harus nurut sama emak  negatif\n",
       "1474  memang klo pengkianat itu sekali melakukan unt...  negatif\n",
       "1475  jelaskan jangan membodohi rakyat dan pengamat ...  negatif\n",
       "1476  ganjarmahfud terbaik tidak nyulik tidak kangka...  negatif\n",
       "\n",
       "[1227 rows x 2 columns]"
      ]
     },
     "execution_count": 15,
     "metadata": {},
     "output_type": "execute_result"
    }
   ],
   "source": [
    "# Mengubah kata Huruf besar menjadi huruf kecil\n",
    "data['full_text'] = data['full_text'].str.lower()\n",
    "data"
   ]
  },
  {
   "cell_type": "code",
   "execution_count": null,
   "id": "908a7501",
   "metadata": {},
   "outputs": [],
   "source": []
  }
 ],
 "metadata": {
  "kernelspec": {
   "display_name": "Python 3 (ipykernel)",
   "language": "python",
   "name": "python3"
  },
  "language_info": {
   "codemirror_mode": {
    "name": "ipython",
    "version": 3
   },
   "file_extension": ".py",
   "mimetype": "text/x-python",
   "name": "python",
   "nbconvert_exporter": "python",
   "pygments_lexer": "ipython3",
   "version": "3.10.7"
  }
 },
 "nbformat": 4,
 "nbformat_minor": 5
}

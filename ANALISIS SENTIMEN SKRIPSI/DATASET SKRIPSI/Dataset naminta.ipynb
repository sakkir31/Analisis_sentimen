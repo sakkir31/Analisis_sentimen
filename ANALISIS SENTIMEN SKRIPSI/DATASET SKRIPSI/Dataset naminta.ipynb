{
 "cells": [
  {
   "cell_type": "code",
   "execution_count": 12,
   "id": "96c342b1",
   "metadata": {},
   "outputs": [],
   "source": [
    "import pandas as pd\n",
    "import re\n",
    "import seaborn as sns\n",
    "import matplotlib.pyplot as plt\n",
    "import numpy as np"
   ]
  },
  {
   "cell_type": "markdown",
   "id": "90b00e0b",
   "metadata": {},
   "source": [
    "### Dataset Anis"
   ]
  },
  {
   "cell_type": "code",
   "execution_count": 13,
   "id": "da541eba",
   "metadata": {},
   "outputs": [
    {
     "data": {
      "text/html": [
       "<div>\n",
       "<style scoped>\n",
       "    .dataframe tbody tr th:only-of-type {\n",
       "        vertical-align: middle;\n",
       "    }\n",
       "\n",
       "    .dataframe tbody tr th {\n",
       "        vertical-align: top;\n",
       "    }\n",
       "\n",
       "    .dataframe thead th {\n",
       "        text-align: right;\n",
       "    }\n",
       "</style>\n",
       "<table border=\"1\" class=\"dataframe\">\n",
       "  <thead>\n",
       "    <tr style=\"text-align: right;\">\n",
       "      <th></th>\n",
       "      <th>full_text</th>\n",
       "      <th>sentimen</th>\n",
       "    </tr>\n",
       "  </thead>\n",
       "  <tbody>\n",
       "    <tr>\n",
       "      <th>0</th>\n",
       "      <td>@ekowboy2 . Ambil Bansosnya  Pilihannya tetap ...</td>\n",
       "      <td>positif</td>\n",
       "    </tr>\n",
       "    <tr>\n",
       "      <th>1</th>\n",
       "      <td>@alisyarief @PDemokrat Yg melekat di masyaraka...</td>\n",
       "      <td>NaN</td>\n",
       "    </tr>\n",
       "    <tr>\n",
       "      <th>2</th>\n",
       "      <td>@Dahnilanzar @prabowo @gibran_tweet padahal @F...</td>\n",
       "      <td>negatif</td>\n",
       "    </tr>\n",
       "    <tr>\n",
       "      <th>3</th>\n",
       "      <td>@Utiah_Mak Aamiin alhamdulillah Smg hasil ini ...</td>\n",
       "      <td>positif</td>\n",
       "    </tr>\n",
       "    <tr>\n",
       "      <th>4</th>\n",
       "      <td>Ratusan Personel Gabungan Disiapkan Amankan Ka...</td>\n",
       "      <td>positif</td>\n",
       "    </tr>\n",
       "    <tr>\n",
       "      <th>...</th>\n",
       "      <td>...</td>\n",
       "      <td>...</td>\n",
       "    </tr>\n",
       "    <tr>\n",
       "      <th>1472</th>\n",
       "      <td>Faktanya CUPU sok SUHU..  #anakpresiden #Ganja...</td>\n",
       "      <td>negatif</td>\n",
       "    </tr>\n",
       "    <tr>\n",
       "      <th>1473</th>\n",
       "      <td>@cagubnyinyir2 @BoyMantouw @mas_alku @wonggend...</td>\n",
       "      <td>negatif</td>\n",
       "    </tr>\n",
       "    <tr>\n",
       "      <th>1474</th>\n",
       "      <td>@Andi54582715 @Omnya_Gibran @jokowi Memang Klo...</td>\n",
       "      <td>negatif</td>\n",
       "    </tr>\n",
       "    <tr>\n",
       "      <th>1475</th>\n",
       "      <td>Jelaskan Jangan Membodohi Rakyat dan Pengamat ...</td>\n",
       "      <td>negatif</td>\n",
       "    </tr>\n",
       "    <tr>\n",
       "      <th>1476</th>\n",
       "      <td>@xquitavee GanjarMahfud terbaik. Tidak nyulik ...</td>\n",
       "      <td>negatif</td>\n",
       "    </tr>\n",
       "  </tbody>\n",
       "</table>\n",
       "<p>1477 rows × 2 columns</p>\n",
       "</div>"
      ],
      "text/plain": [
       "                                              full_text sentimen\n",
       "0     @ekowboy2 . Ambil Bansosnya  Pilihannya tetap ...  positif\n",
       "1     @alisyarief @PDemokrat Yg melekat di masyaraka...      NaN\n",
       "2     @Dahnilanzar @prabowo @gibran_tweet padahal @F...  negatif\n",
       "3     @Utiah_Mak Aamiin alhamdulillah Smg hasil ini ...  positif\n",
       "4     Ratusan Personel Gabungan Disiapkan Amankan Ka...  positif\n",
       "...                                                 ...      ...\n",
       "1472  Faktanya CUPU sok SUHU..  #anakpresiden #Ganja...  negatif\n",
       "1473  @cagubnyinyir2 @BoyMantouw @mas_alku @wonggend...  negatif\n",
       "1474  @Andi54582715 @Omnya_Gibran @jokowi Memang Klo...  negatif\n",
       "1475  Jelaskan Jangan Membodohi Rakyat dan Pengamat ...  negatif\n",
       "1476  @xquitavee GanjarMahfud terbaik. Tidak nyulik ...  negatif\n",
       "\n",
       "[1477 rows x 2 columns]"
      ]
     },
     "execution_count": 13,
     "metadata": {},
     "output_type": "execute_result"
    }
   ],
   "source": [
    "# Read the CSV file into a pandas DataFrame\n",
    "df1 = pd.read_csv('data_anis.csv')\n",
    "df2 = pd.read_csv('data_anisNeg.csv')\n",
    "\n",
    "df = [df1, df2]\n",
    "df = pd.concat(df, ignore_index=True)\n",
    "df\n",
    "\n",
    "# Display the DataFrame\n",
    "data_anis = df[['full_text','sentimen']]\n",
    "data_anis"
   ]
  },
  {
   "cell_type": "code",
   "execution_count": 14,
   "id": "d56f171f",
   "metadata": {},
   "outputs": [
    {
     "data": {
      "text/plain": [
       "full_text      1\n",
       "sentimen     167\n",
       "dtype: int64"
      ]
     },
     "execution_count": 14,
     "metadata": {},
     "output_type": "execute_result"
    }
   ],
   "source": [
    "# melihat dan Hapus data yang kosong\n",
    "data_anis.isnull().sum()"
   ]
  },
  {
   "cell_type": "code",
   "execution_count": 15,
   "id": "34fcfdbe",
   "metadata": {},
   "outputs": [
    {
     "data": {
      "text/plain": [
       "full_text    0\n",
       "sentimen     0\n",
       "dtype: int64"
      ]
     },
     "execution_count": 15,
     "metadata": {},
     "output_type": "execute_result"
    }
   ],
   "source": [
    "data_anis = data_anis.dropna()\n",
    "data.isnull().sum()"
   ]
  },
  {
   "cell_type": "code",
   "execution_count": 16,
   "id": "e90eed39",
   "metadata": {},
   "outputs": [
    {
     "data": {
      "text/plain": [
       "10"
      ]
     },
     "execution_count": 16,
     "metadata": {},
     "output_type": "execute_result"
    }
   ],
   "source": [
    "# melihat data yang duplicate dan menghapusnya\n",
    "data_anis.duplicated().sum()"
   ]
  },
  {
   "cell_type": "code",
   "execution_count": 17,
   "id": "63c2d77d",
   "metadata": {},
   "outputs": [
    {
     "data": {
      "text/plain": [
       "0"
      ]
     },
     "execution_count": 17,
     "metadata": {},
     "output_type": "execute_result"
    }
   ],
   "source": [
    "data_anis = data_anis.drop_duplicates()\n",
    "data_anis.duplicated().sum()"
   ]
  },
  {
   "cell_type": "code",
   "execution_count": 18,
   "id": "487ca21e",
   "metadata": {},
   "outputs": [
    {
     "data": {
      "text/plain": [
       "(1299, 2)"
      ]
     },
     "execution_count": 18,
     "metadata": {},
     "output_type": "execute_result"
    }
   ],
   "source": [
    "data_anis.shape"
   ]
  },
  {
   "cell_type": "code",
   "execution_count": 19,
   "id": "d6985440",
   "metadata": {},
   "outputs": [
    {
     "data": {
      "text/html": [
       "<div>\n",
       "<style scoped>\n",
       "    .dataframe tbody tr th:only-of-type {\n",
       "        vertical-align: middle;\n",
       "    }\n",
       "\n",
       "    .dataframe tbody tr th {\n",
       "        vertical-align: top;\n",
       "    }\n",
       "\n",
       "    .dataframe thead th {\n",
       "        text-align: right;\n",
       "    }\n",
       "</style>\n",
       "<table border=\"1\" class=\"dataframe\">\n",
       "  <thead>\n",
       "    <tr style=\"text-align: right;\">\n",
       "      <th></th>\n",
       "      <th>full_text</th>\n",
       "      <th>sentimen</th>\n",
       "    </tr>\n",
       "  </thead>\n",
       "  <tbody>\n",
       "    <tr>\n",
       "      <th>0</th>\n",
       "      <td>@ekowboy2 . Ambil Bansosnya  Pilihannya tetap ...</td>\n",
       "      <td>positif</td>\n",
       "    </tr>\n",
       "    <tr>\n",
       "      <th>2</th>\n",
       "      <td>@Dahnilanzar @prabowo @gibran_tweet padahal @F...</td>\n",
       "      <td>negatif</td>\n",
       "    </tr>\n",
       "    <tr>\n",
       "      <th>3</th>\n",
       "      <td>@Utiah_Mak Aamiin alhamdulillah Smg hasil ini ...</td>\n",
       "      <td>positif</td>\n",
       "    </tr>\n",
       "    <tr>\n",
       "      <th>4</th>\n",
       "      <td>Ratusan Personel Gabungan Disiapkan Amankan Ka...</td>\n",
       "      <td>positif</td>\n",
       "    </tr>\n",
       "    <tr>\n",
       "      <th>5</th>\n",
       "      <td>Amin = Asal jangan  Anis Muhaimin ??????</td>\n",
       "      <td>negatif</td>\n",
       "    </tr>\n",
       "    <tr>\n",
       "      <th>...</th>\n",
       "      <td>...</td>\n",
       "      <td>...</td>\n",
       "    </tr>\n",
       "    <tr>\n",
       "      <th>1472</th>\n",
       "      <td>Faktanya CUPU sok SUHU..  #anakpresiden #Ganja...</td>\n",
       "      <td>negatif</td>\n",
       "    </tr>\n",
       "    <tr>\n",
       "      <th>1473</th>\n",
       "      <td>@cagubnyinyir2 @BoyMantouw @mas_alku @wonggend...</td>\n",
       "      <td>negatif</td>\n",
       "    </tr>\n",
       "    <tr>\n",
       "      <th>1474</th>\n",
       "      <td>@Andi54582715 @Omnya_Gibran @jokowi Memang Klo...</td>\n",
       "      <td>negatif</td>\n",
       "    </tr>\n",
       "    <tr>\n",
       "      <th>1475</th>\n",
       "      <td>Jelaskan Jangan Membodohi Rakyat dan Pengamat ...</td>\n",
       "      <td>negatif</td>\n",
       "    </tr>\n",
       "    <tr>\n",
       "      <th>1476</th>\n",
       "      <td>@xquitavee GanjarMahfud terbaik. Tidak nyulik ...</td>\n",
       "      <td>negatif</td>\n",
       "    </tr>\n",
       "  </tbody>\n",
       "</table>\n",
       "<p>1299 rows × 2 columns</p>\n",
       "</div>"
      ],
      "text/plain": [
       "                                              full_text sentimen\n",
       "0     @ekowboy2 . Ambil Bansosnya  Pilihannya tetap ...  positif\n",
       "2     @Dahnilanzar @prabowo @gibran_tweet padahal @F...  negatif\n",
       "3     @Utiah_Mak Aamiin alhamdulillah Smg hasil ini ...  positif\n",
       "4     Ratusan Personel Gabungan Disiapkan Amankan Ka...  positif\n",
       "5              Amin = Asal jangan  Anis Muhaimin ??????  negatif\n",
       "...                                                 ...      ...\n",
       "1472  Faktanya CUPU sok SUHU..  #anakpresiden #Ganja...  negatif\n",
       "1473  @cagubnyinyir2 @BoyMantouw @mas_alku @wonggend...  negatif\n",
       "1474  @Andi54582715 @Omnya_Gibran @jokowi Memang Klo...  negatif\n",
       "1475  Jelaskan Jangan Membodohi Rakyat dan Pengamat ...  negatif\n",
       "1476  @xquitavee GanjarMahfud terbaik. Tidak nyulik ...  negatif\n",
       "\n",
       "[1299 rows x 2 columns]"
      ]
     },
     "execution_count": 19,
     "metadata": {},
     "output_type": "execute_result"
    }
   ],
   "source": [
    "data_anis"
   ]
  },
  {
   "cell_type": "markdown",
   "id": "65ef512f",
   "metadata": {},
   "source": [
    "### Data Prabowo"
   ]
  },
  {
   "cell_type": "code",
   "execution_count": 20,
   "id": "b7653d4c",
   "metadata": {},
   "outputs": [
    {
     "data": {
      "text/html": [
       "<div>\n",
       "<style scoped>\n",
       "    .dataframe tbody tr th:only-of-type {\n",
       "        vertical-align: middle;\n",
       "    }\n",
       "\n",
       "    .dataframe tbody tr th {\n",
       "        vertical-align: top;\n",
       "    }\n",
       "\n",
       "    .dataframe thead th {\n",
       "        text-align: right;\n",
       "    }\n",
       "</style>\n",
       "<table border=\"1\" class=\"dataframe\">\n",
       "  <thead>\n",
       "    <tr style=\"text-align: right;\">\n",
       "      <th></th>\n",
       "      <th>full_text</th>\n",
       "      <th>sentimen</th>\n",
       "    </tr>\n",
       "  </thead>\n",
       "  <tbody>\n",
       "    <tr>\n",
       "      <th>0</th>\n",
       "      <td>@bdjkdkdgnd @griselruiz88 @jokowi @prabowo @gi...</td>\n",
       "      <td>NaN</td>\n",
       "    </tr>\n",
       "    <tr>\n",
       "      <th>1</th>\n",
       "      <td>@yozariam Wakakaka geli anjer  Bikin prabowo g...</td>\n",
       "      <td>NaN</td>\n",
       "    </tr>\n",
       "    <tr>\n",
       "      <th>2</th>\n",
       "      <td>Pendukung Ganjar dan AMIN Beralih ke Prabowo-G...</td>\n",
       "      <td>positif</td>\n",
       "    </tr>\n",
       "    <tr>\n",
       "      <th>3</th>\n",
       "      <td>Melki Laka Lena Tegaskan Penyusunan RUU Keseha...</td>\n",
       "      <td>NaN</td>\n",
       "    </tr>\n",
       "    <tr>\n",
       "      <th>4</th>\n",
       "      <td>@TeddGus @prabowo @gibran_tweet Dari dulukan l...</td>\n",
       "      <td>NaN</td>\n",
       "    </tr>\n",
       "    <tr>\n",
       "      <th>...</th>\n",
       "      <td>...</td>\n",
       "      <td>...</td>\n",
       "    </tr>\n",
       "    <tr>\n",
       "      <th>2326</th>\n",
       "      <td>@fadlizon @prabowo @gibran_tweet Iya satu puta...</td>\n",
       "      <td>negatif</td>\n",
       "    </tr>\n",
       "    <tr>\n",
       "      <th>2327</th>\n",
       "      <td>Dengan Prabowo dan Gibran di pucuk kepemimpina...</td>\n",
       "      <td>positif</td>\n",
       "    </tr>\n",
       "    <tr>\n",
       "      <th>2328</th>\n",
       "      <td>@TsamaraDKI Naaah, mulai muncul tukang cebok. ...</td>\n",
       "      <td>negatif</td>\n",
       "    </tr>\n",
       "    <tr>\n",
       "      <th>2329</th>\n",
       "      <td>@adearmando61 Yg panik lo ade Armando kekalaha...</td>\n",
       "      <td>negatif</td>\n",
       "    </tr>\n",
       "    <tr>\n",
       "      <th>2330</th>\n",
       "      <td>@Fahrihamzah Calon gelandangan politik bila @p...</td>\n",
       "      <td>negatif</td>\n",
       "    </tr>\n",
       "  </tbody>\n",
       "</table>\n",
       "<p>2331 rows × 2 columns</p>\n",
       "</div>"
      ],
      "text/plain": [
       "                                              full_text sentimen\n",
       "0     @bdjkdkdgnd @griselruiz88 @jokowi @prabowo @gi...      NaN\n",
       "1     @yozariam Wakakaka geli anjer  Bikin prabowo g...      NaN\n",
       "2     Pendukung Ganjar dan AMIN Beralih ke Prabowo-G...  positif\n",
       "3     Melki Laka Lena Tegaskan Penyusunan RUU Keseha...      NaN\n",
       "4     @TeddGus @prabowo @gibran_tweet Dari dulukan l...      NaN\n",
       "...                                                 ...      ...\n",
       "2326  @fadlizon @prabowo @gibran_tweet Iya satu puta...  negatif\n",
       "2327  Dengan Prabowo dan Gibran di pucuk kepemimpina...  positif\n",
       "2328  @TsamaraDKI Naaah, mulai muncul tukang cebok. ...  negatif\n",
       "2329  @adearmando61 Yg panik lo ade Armando kekalaha...  negatif\n",
       "2330  @Fahrihamzah Calon gelandangan politik bila @p...  negatif\n",
       "\n",
       "[2331 rows x 2 columns]"
      ]
     },
     "execution_count": 20,
     "metadata": {},
     "output_type": "execute_result"
    }
   ],
   "source": [
    "# Read the CSV file into a pandas DataFrame\n",
    "df1 = pd.read_csv('data_prabowo1.csv')\n",
    "df2 = pd.read_csv('data_prabowo2.csv')\n",
    "df3 = pd.read_csv('data_prabowo3.csv')\n",
    "\n",
    "df_prabowo = [df3, df2, df1]\n",
    "df_prabowo = pd.concat(df_prabowo, ignore_index=True)\n",
    "df_prabowo\n",
    "\n",
    "# Display the DataFrame\n",
    "data_prabowo = df_prabowo[['full_text','sentimen']]\n",
    "data_prabowo"
   ]
  },
  {
   "cell_type": "code",
   "execution_count": 21,
   "id": "e0ba00b4",
   "metadata": {},
   "outputs": [
    {
     "data": {
      "text/plain": [
       "full_text       0\n",
       "sentimen     1213\n",
       "dtype: int64"
      ]
     },
     "execution_count": 21,
     "metadata": {},
     "output_type": "execute_result"
    }
   ],
   "source": [
    "# melihat dan Hapus data yang kosong\n",
    "data_prabowo.isnull().sum()"
   ]
  },
  {
   "cell_type": "code",
   "execution_count": 23,
   "id": "3f28510a",
   "metadata": {},
   "outputs": [
    {
     "data": {
      "text/plain": [
       "full_text    0\n",
       "sentimen     0\n",
       "dtype: int64"
      ]
     },
     "execution_count": 23,
     "metadata": {},
     "output_type": "execute_result"
    }
   ],
   "source": [
    "data_prabowo = data_prabowo.dropna()\n",
    "data_prabowo.isnull().sum()"
   ]
  },
  {
   "cell_type": "code",
   "execution_count": 24,
   "id": "16e028af",
   "metadata": {},
   "outputs": [
    {
     "data": {
      "text/plain": [
       "48"
      ]
     },
     "execution_count": 24,
     "metadata": {},
     "output_type": "execute_result"
    }
   ],
   "source": [
    "# melihat data yang duplicate dan menghapusnya\n",
    "data_prabowo.duplicated().sum()"
   ]
  },
  {
   "cell_type": "code",
   "execution_count": 25,
   "id": "9cde974f",
   "metadata": {},
   "outputs": [
    {
     "data": {
      "text/plain": [
       "0"
      ]
     },
     "execution_count": 25,
     "metadata": {},
     "output_type": "execute_result"
    }
   ],
   "source": [
    "data_prabowo = data_prabowo.drop_duplicates()\n",
    "data_prabowo.duplicated().sum()"
   ]
  },
  {
   "cell_type": "code",
   "execution_count": 26,
   "id": "f073f4cd",
   "metadata": {},
   "outputs": [
    {
     "data": {
      "text/plain": [
       "(1070, 2)"
      ]
     },
     "execution_count": 26,
     "metadata": {},
     "output_type": "execute_result"
    }
   ],
   "source": [
    "data_prabowo.shape"
   ]
  },
  {
   "cell_type": "markdown",
   "id": "a5ca122b",
   "metadata": {},
   "source": [
    "### Ganjar"
   ]
  },
  {
   "cell_type": "code",
   "execution_count": 27,
   "id": "30d44d5a",
   "metadata": {},
   "outputs": [
    {
     "data": {
      "text/html": [
       "<div>\n",
       "<style scoped>\n",
       "    .dataframe tbody tr th:only-of-type {\n",
       "        vertical-align: middle;\n",
       "    }\n",
       "\n",
       "    .dataframe tbody tr th {\n",
       "        vertical-align: top;\n",
       "    }\n",
       "\n",
       "    .dataframe thead th {\n",
       "        text-align: right;\n",
       "    }\n",
       "</style>\n",
       "<table border=\"1\" class=\"dataframe\">\n",
       "  <thead>\n",
       "    <tr style=\"text-align: right;\">\n",
       "      <th></th>\n",
       "      <th>full_text</th>\n",
       "      <th>sentimen</th>\n",
       "    </tr>\n",
       "  </thead>\n",
       "  <tbody>\n",
       "    <tr>\n",
       "      <th>0</th>\n",
       "      <td>@gennnngenn @tempodotco gasspoll memangkan gan...</td>\n",
       "      <td>positif</td>\n",
       "    </tr>\n",
       "    <tr>\n",
       "      <th>1</th>\n",
       "      <td>Dukungan masyarakat tumbuh untuk Ganjar-Mahfud...</td>\n",
       "      <td>positif</td>\n",
       "    </tr>\n",
       "    <tr>\n",
       "      <th>2</th>\n",
       "      <td>@ch_chotimah2 Ganjar Mahfud harus didukung sem...</td>\n",
       "      <td>positif</td>\n",
       "    </tr>\n",
       "    <tr>\n",
       "      <th>3</th>\n",
       "      <td>Ganjar-Mahfud menjadi harapan besar bagi penge...</td>\n",
       "      <td>positif</td>\n",
       "    </tr>\n",
       "    <tr>\n",
       "      <th>4</th>\n",
       "      <td>Ganjar-Mahfud akan menjaga keberlanjutan danau...</td>\n",
       "      <td>positif</td>\n",
       "    </tr>\n",
       "    <tr>\n",
       "      <th>...</th>\n",
       "      <td>...</td>\n",
       "      <td>...</td>\n",
       "    </tr>\n",
       "    <tr>\n",
       "      <th>1753</th>\n",
       "      <td>Faktanya CUPU sok SUHU..  #anakpresiden #Ganja...</td>\n",
       "      <td>negatif</td>\n",
       "    </tr>\n",
       "    <tr>\n",
       "      <th>1754</th>\n",
       "      <td>@cagubnyinyir2 @BoyMantouw @mas_alku @wonggend...</td>\n",
       "      <td>negatif</td>\n",
       "    </tr>\n",
       "    <tr>\n",
       "      <th>1755</th>\n",
       "      <td>@Andi54582715 @Omnya_Gibran @jokowi Memang Klo...</td>\n",
       "      <td>negatif</td>\n",
       "    </tr>\n",
       "    <tr>\n",
       "      <th>1756</th>\n",
       "      <td>Jelaskan Jangan Membodohi Rakyat dan Pengamat ...</td>\n",
       "      <td>negatif</td>\n",
       "    </tr>\n",
       "    <tr>\n",
       "      <th>1757</th>\n",
       "      <td>@xquitavee GanjarMahfud terbaik. Tidak nyulik ...</td>\n",
       "      <td>negatif</td>\n",
       "    </tr>\n",
       "  </tbody>\n",
       "</table>\n",
       "<p>1758 rows × 2 columns</p>\n",
       "</div>"
      ],
      "text/plain": [
       "                                              full_text sentimen\n",
       "0     @gennnngenn @tempodotco gasspoll memangkan gan...  positif\n",
       "1     Dukungan masyarakat tumbuh untuk Ganjar-Mahfud...  positif\n",
       "2     @ch_chotimah2 Ganjar Mahfud harus didukung sem...  positif\n",
       "3     Ganjar-Mahfud menjadi harapan besar bagi penge...  positif\n",
       "4     Ganjar-Mahfud akan menjaga keberlanjutan danau...  positif\n",
       "...                                                 ...      ...\n",
       "1753  Faktanya CUPU sok SUHU..  #anakpresiden #Ganja...  negatif\n",
       "1754  @cagubnyinyir2 @BoyMantouw @mas_alku @wonggend...  negatif\n",
       "1755  @Andi54582715 @Omnya_Gibran @jokowi Memang Klo...  negatif\n",
       "1756  Jelaskan Jangan Membodohi Rakyat dan Pengamat ...  negatif\n",
       "1757  @xquitavee GanjarMahfud terbaik. Tidak nyulik ...  negatif\n",
       "\n",
       "[1758 rows x 2 columns]"
      ]
     },
     "execution_count": 27,
     "metadata": {},
     "output_type": "execute_result"
    }
   ],
   "source": [
    "# Read the CSV file into a pandas DataFrame\n",
    "df1 = pd.read_csv('data_ganjar.csv')\n",
    "df2 = pd.read_csv('data_ganjar13.csv')\n",
    "df3 = pd.read_csv('data_ganjarNeg.csv')\n",
    "\n",
    "df_ganjar = [df1, df2, df3]\n",
    "df_ganjar = pd.concat(df_ganjar, ignore_index=True)\n",
    "df_ganjar\n",
    "\n",
    "# Display the DataFrame\n",
    "data_ganjar = df_ganjar[['full_text','sentimen']]\n",
    "data_ganjar"
   ]
  },
  {
   "cell_type": "code",
   "execution_count": 28,
   "id": "97bdc139",
   "metadata": {},
   "outputs": [
    {
     "data": {
      "text/plain": [
       "full_text      0\n",
       "sentimen     595\n",
       "dtype: int64"
      ]
     },
     "execution_count": 28,
     "metadata": {},
     "output_type": "execute_result"
    }
   ],
   "source": [
    "# melihat dan Hapus data yang kosong\n",
    "data_ganjar.isnull().sum()"
   ]
  },
  {
   "cell_type": "code",
   "execution_count": 29,
   "id": "259752cc",
   "metadata": {},
   "outputs": [
    {
     "data": {
      "text/plain": [
       "full_text    0\n",
       "sentimen     0\n",
       "dtype: int64"
      ]
     },
     "execution_count": 29,
     "metadata": {},
     "output_type": "execute_result"
    }
   ],
   "source": [
    "data_ganjar = data_ganjar.dropna()\n",
    "data_ganjar.isnull().sum()"
   ]
  },
  {
   "cell_type": "code",
   "execution_count": 30,
   "id": "18f58609",
   "metadata": {},
   "outputs": [
    {
     "data": {
      "text/plain": [
       "50"
      ]
     },
     "execution_count": 30,
     "metadata": {},
     "output_type": "execute_result"
    }
   ],
   "source": [
    "# melihat data yang duplicate dan menghapusnya\n",
    "data_ganjar.duplicated().sum()"
   ]
  },
  {
   "cell_type": "code",
   "execution_count": 31,
   "id": "273974db",
   "metadata": {},
   "outputs": [
    {
     "data": {
      "text/plain": [
       "0"
      ]
     },
     "execution_count": 31,
     "metadata": {},
     "output_type": "execute_result"
    }
   ],
   "source": [
    "data_ganjar = data_ganjar.drop_duplicates()\n",
    "data_ganjar.duplicated().sum()"
   ]
  },
  {
   "cell_type": "code",
   "execution_count": 33,
   "id": "8970b93f",
   "metadata": {},
   "outputs": [
    {
     "data": {
      "text/plain": [
       "(1113, 2)"
      ]
     },
     "execution_count": 33,
     "metadata": {},
     "output_type": "execute_result"
    }
   ],
   "source": [
    "data_ganjar.shape"
   ]
  },
  {
   "cell_type": "markdown",
   "id": "f75bd735",
   "metadata": {},
   "source": [
    "# Gabungkan semua data"
   ]
  },
  {
   "cell_type": "code",
   "execution_count": 34,
   "id": "939aba5d",
   "metadata": {},
   "outputs": [
    {
     "data": {
      "text/html": [
       "<div>\n",
       "<style scoped>\n",
       "    .dataframe tbody tr th:only-of-type {\n",
       "        vertical-align: middle;\n",
       "    }\n",
       "\n",
       "    .dataframe tbody tr th {\n",
       "        vertical-align: top;\n",
       "    }\n",
       "\n",
       "    .dataframe thead th {\n",
       "        text-align: right;\n",
       "    }\n",
       "</style>\n",
       "<table border=\"1\" class=\"dataframe\">\n",
       "  <thead>\n",
       "    <tr style=\"text-align: right;\">\n",
       "      <th></th>\n",
       "      <th>full_text</th>\n",
       "      <th>sentimen</th>\n",
       "    </tr>\n",
       "  </thead>\n",
       "  <tbody>\n",
       "    <tr>\n",
       "      <th>0</th>\n",
       "      <td>@ekowboy2 . Ambil Bansosnya  Pilihannya tetap ...</td>\n",
       "      <td>positif</td>\n",
       "    </tr>\n",
       "    <tr>\n",
       "      <th>2</th>\n",
       "      <td>@Dahnilanzar @prabowo @gibran_tweet padahal @F...</td>\n",
       "      <td>negatif</td>\n",
       "    </tr>\n",
       "    <tr>\n",
       "      <th>3</th>\n",
       "      <td>@Utiah_Mak Aamiin alhamdulillah Smg hasil ini ...</td>\n",
       "      <td>positif</td>\n",
       "    </tr>\n",
       "    <tr>\n",
       "      <th>4</th>\n",
       "      <td>Ratusan Personel Gabungan Disiapkan Amankan Ka...</td>\n",
       "      <td>positif</td>\n",
       "    </tr>\n",
       "    <tr>\n",
       "      <th>5</th>\n",
       "      <td>Amin = Asal jangan  Anis Muhaimin ??????</td>\n",
       "      <td>negatif</td>\n",
       "    </tr>\n",
       "    <tr>\n",
       "      <th>...</th>\n",
       "      <td>...</td>\n",
       "      <td>...</td>\n",
       "    </tr>\n",
       "    <tr>\n",
       "      <th>1472</th>\n",
       "      <td>Faktanya CUPU sok SUHU..  #anakpresiden #Ganja...</td>\n",
       "      <td>negatif</td>\n",
       "    </tr>\n",
       "    <tr>\n",
       "      <th>1473</th>\n",
       "      <td>@cagubnyinyir2 @BoyMantouw @mas_alku @wonggend...</td>\n",
       "      <td>negatif</td>\n",
       "    </tr>\n",
       "    <tr>\n",
       "      <th>1474</th>\n",
       "      <td>@Andi54582715 @Omnya_Gibran @jokowi Memang Klo...</td>\n",
       "      <td>negatif</td>\n",
       "    </tr>\n",
       "    <tr>\n",
       "      <th>1475</th>\n",
       "      <td>Jelaskan Jangan Membodohi Rakyat dan Pengamat ...</td>\n",
       "      <td>negatif</td>\n",
       "    </tr>\n",
       "    <tr>\n",
       "      <th>1476</th>\n",
       "      <td>@xquitavee GanjarMahfud terbaik. Tidak nyulik ...</td>\n",
       "      <td>negatif</td>\n",
       "    </tr>\n",
       "  </tbody>\n",
       "</table>\n",
       "<p>1299 rows × 2 columns</p>\n",
       "</div>"
      ],
      "text/plain": [
       "                                              full_text sentimen\n",
       "0     @ekowboy2 . Ambil Bansosnya  Pilihannya tetap ...  positif\n",
       "2     @Dahnilanzar @prabowo @gibran_tweet padahal @F...  negatif\n",
       "3     @Utiah_Mak Aamiin alhamdulillah Smg hasil ini ...  positif\n",
       "4     Ratusan Personel Gabungan Disiapkan Amankan Ka...  positif\n",
       "5              Amin = Asal jangan  Anis Muhaimin ??????  negatif\n",
       "...                                                 ...      ...\n",
       "1472  Faktanya CUPU sok SUHU..  #anakpresiden #Ganja...  negatif\n",
       "1473  @cagubnyinyir2 @BoyMantouw @mas_alku @wonggend...  negatif\n",
       "1474  @Andi54582715 @Omnya_Gibran @jokowi Memang Klo...  negatif\n",
       "1475  Jelaskan Jangan Membodohi Rakyat dan Pengamat ...  negatif\n",
       "1476  @xquitavee GanjarMahfud terbaik. Tidak nyulik ...  negatif\n",
       "\n",
       "[1299 rows x 2 columns]"
      ]
     },
     "execution_count": 34,
     "metadata": {},
     "output_type": "execute_result"
    }
   ],
   "source": [
    "data_anis"
   ]
  },
  {
   "cell_type": "code",
   "execution_count": 35,
   "id": "6441ab66",
   "metadata": {},
   "outputs": [
    {
     "data": {
      "text/html": [
       "<div>\n",
       "<style scoped>\n",
       "    .dataframe tbody tr th:only-of-type {\n",
       "        vertical-align: middle;\n",
       "    }\n",
       "\n",
       "    .dataframe tbody tr th {\n",
       "        vertical-align: top;\n",
       "    }\n",
       "\n",
       "    .dataframe thead th {\n",
       "        text-align: right;\n",
       "    }\n",
       "</style>\n",
       "<table border=\"1\" class=\"dataframe\">\n",
       "  <thead>\n",
       "    <tr style=\"text-align: right;\">\n",
       "      <th></th>\n",
       "      <th>full_text</th>\n",
       "      <th>sentimen</th>\n",
       "    </tr>\n",
       "  </thead>\n",
       "  <tbody>\n",
       "    <tr>\n",
       "      <th>2</th>\n",
       "      <td>Pendukung Ganjar dan AMIN Beralih ke Prabowo-G...</td>\n",
       "      <td>positif</td>\n",
       "    </tr>\n",
       "    <tr>\n",
       "      <th>5</th>\n",
       "      <td>Indonesia membutuhkan pemimpin yang berani dan...</td>\n",
       "      <td>positif</td>\n",
       "    </tr>\n",
       "    <tr>\n",
       "      <th>6</th>\n",
       "      <td>Saya yakin Prabowo dan Gibran akan membawa per...</td>\n",
       "      <td>positif</td>\n",
       "    </tr>\n",
       "    <tr>\n",
       "      <th>7</th>\n",
       "      <td>Prabowo dan Gibran, teruslah berjuang demi Ind...</td>\n",
       "      <td>positif</td>\n",
       "    </tr>\n",
       "    <tr>\n",
       "      <th>8</th>\n",
       "      <td>@WaktunyaIDMaju Ini baru namanya kampanye sang...</td>\n",
       "      <td>positif</td>\n",
       "    </tr>\n",
       "    <tr>\n",
       "      <th>...</th>\n",
       "      <td>...</td>\n",
       "      <td>...</td>\n",
       "    </tr>\n",
       "    <tr>\n",
       "      <th>2324</th>\n",
       "      <td>@Muhammad_Saewad @aniesbaswedan @cakimiNOW @pr...</td>\n",
       "      <td>negatif</td>\n",
       "    </tr>\n",
       "    <tr>\n",
       "      <th>2326</th>\n",
       "      <td>@fadlizon @prabowo @gibran_tweet Iya satu puta...</td>\n",
       "      <td>negatif</td>\n",
       "    </tr>\n",
       "    <tr>\n",
       "      <th>2328</th>\n",
       "      <td>@TsamaraDKI Naaah, mulai muncul tukang cebok. ...</td>\n",
       "      <td>negatif</td>\n",
       "    </tr>\n",
       "    <tr>\n",
       "      <th>2329</th>\n",
       "      <td>@adearmando61 Yg panik lo ade Armando kekalaha...</td>\n",
       "      <td>negatif</td>\n",
       "    </tr>\n",
       "    <tr>\n",
       "      <th>2330</th>\n",
       "      <td>@Fahrihamzah Calon gelandangan politik bila @p...</td>\n",
       "      <td>negatif</td>\n",
       "    </tr>\n",
       "  </tbody>\n",
       "</table>\n",
       "<p>1070 rows × 2 columns</p>\n",
       "</div>"
      ],
      "text/plain": [
       "                                              full_text sentimen\n",
       "2     Pendukung Ganjar dan AMIN Beralih ke Prabowo-G...  positif\n",
       "5     Indonesia membutuhkan pemimpin yang berani dan...  positif\n",
       "6     Saya yakin Prabowo dan Gibran akan membawa per...  positif\n",
       "7     Prabowo dan Gibran, teruslah berjuang demi Ind...  positif\n",
       "8     @WaktunyaIDMaju Ini baru namanya kampanye sang...  positif\n",
       "...                                                 ...      ...\n",
       "2324  @Muhammad_Saewad @aniesbaswedan @cakimiNOW @pr...  negatif\n",
       "2326  @fadlizon @prabowo @gibran_tweet Iya satu puta...  negatif\n",
       "2328  @TsamaraDKI Naaah, mulai muncul tukang cebok. ...  negatif\n",
       "2329  @adearmando61 Yg panik lo ade Armando kekalaha...  negatif\n",
       "2330  @Fahrihamzah Calon gelandangan politik bila @p...  negatif\n",
       "\n",
       "[1070 rows x 2 columns]"
      ]
     },
     "execution_count": 35,
     "metadata": {},
     "output_type": "execute_result"
    }
   ],
   "source": [
    "data_prabowo"
   ]
  },
  {
   "cell_type": "code",
   "execution_count": 36,
   "id": "dd060a86",
   "metadata": {},
   "outputs": [
    {
     "data": {
      "text/html": [
       "<div>\n",
       "<style scoped>\n",
       "    .dataframe tbody tr th:only-of-type {\n",
       "        vertical-align: middle;\n",
       "    }\n",
       "\n",
       "    .dataframe tbody tr th {\n",
       "        vertical-align: top;\n",
       "    }\n",
       "\n",
       "    .dataframe thead th {\n",
       "        text-align: right;\n",
       "    }\n",
       "</style>\n",
       "<table border=\"1\" class=\"dataframe\">\n",
       "  <thead>\n",
       "    <tr style=\"text-align: right;\">\n",
       "      <th></th>\n",
       "      <th>full_text</th>\n",
       "      <th>sentimen</th>\n",
       "    </tr>\n",
       "  </thead>\n",
       "  <tbody>\n",
       "    <tr>\n",
       "      <th>0</th>\n",
       "      <td>@gennnngenn @tempodotco gasspoll memangkan gan...</td>\n",
       "      <td>positif</td>\n",
       "    </tr>\n",
       "    <tr>\n",
       "      <th>1</th>\n",
       "      <td>Dukungan masyarakat tumbuh untuk Ganjar-Mahfud...</td>\n",
       "      <td>positif</td>\n",
       "    </tr>\n",
       "    <tr>\n",
       "      <th>2</th>\n",
       "      <td>@ch_chotimah2 Ganjar Mahfud harus didukung sem...</td>\n",
       "      <td>positif</td>\n",
       "    </tr>\n",
       "    <tr>\n",
       "      <th>3</th>\n",
       "      <td>Ganjar-Mahfud menjadi harapan besar bagi penge...</td>\n",
       "      <td>positif</td>\n",
       "    </tr>\n",
       "    <tr>\n",
       "      <th>4</th>\n",
       "      <td>Ganjar-Mahfud akan menjaga keberlanjutan danau...</td>\n",
       "      <td>positif</td>\n",
       "    </tr>\n",
       "    <tr>\n",
       "      <th>...</th>\n",
       "      <td>...</td>\n",
       "      <td>...</td>\n",
       "    </tr>\n",
       "    <tr>\n",
       "      <th>1753</th>\n",
       "      <td>Faktanya CUPU sok SUHU..  #anakpresiden #Ganja...</td>\n",
       "      <td>negatif</td>\n",
       "    </tr>\n",
       "    <tr>\n",
       "      <th>1754</th>\n",
       "      <td>@cagubnyinyir2 @BoyMantouw @mas_alku @wonggend...</td>\n",
       "      <td>negatif</td>\n",
       "    </tr>\n",
       "    <tr>\n",
       "      <th>1755</th>\n",
       "      <td>@Andi54582715 @Omnya_Gibran @jokowi Memang Klo...</td>\n",
       "      <td>negatif</td>\n",
       "    </tr>\n",
       "    <tr>\n",
       "      <th>1756</th>\n",
       "      <td>Jelaskan Jangan Membodohi Rakyat dan Pengamat ...</td>\n",
       "      <td>negatif</td>\n",
       "    </tr>\n",
       "    <tr>\n",
       "      <th>1757</th>\n",
       "      <td>@xquitavee GanjarMahfud terbaik. Tidak nyulik ...</td>\n",
       "      <td>negatif</td>\n",
       "    </tr>\n",
       "  </tbody>\n",
       "</table>\n",
       "<p>1113 rows × 2 columns</p>\n",
       "</div>"
      ],
      "text/plain": [
       "                                              full_text sentimen\n",
       "0     @gennnngenn @tempodotco gasspoll memangkan gan...  positif\n",
       "1     Dukungan masyarakat tumbuh untuk Ganjar-Mahfud...  positif\n",
       "2     @ch_chotimah2 Ganjar Mahfud harus didukung sem...  positif\n",
       "3     Ganjar-Mahfud menjadi harapan besar bagi penge...  positif\n",
       "4     Ganjar-Mahfud akan menjaga keberlanjutan danau...  positif\n",
       "...                                                 ...      ...\n",
       "1753  Faktanya CUPU sok SUHU..  #anakpresiden #Ganja...  negatif\n",
       "1754  @cagubnyinyir2 @BoyMantouw @mas_alku @wonggend...  negatif\n",
       "1755  @Andi54582715 @Omnya_Gibran @jokowi Memang Klo...  negatif\n",
       "1756  Jelaskan Jangan Membodohi Rakyat dan Pengamat ...  negatif\n",
       "1757  @xquitavee GanjarMahfud terbaik. Tidak nyulik ...  negatif\n",
       "\n",
       "[1113 rows x 2 columns]"
      ]
     },
     "execution_count": 36,
     "metadata": {},
     "output_type": "execute_result"
    }
   ],
   "source": [
    "data_ganjar"
   ]
  },
  {
   "cell_type": "code",
   "execution_count": 37,
   "id": "a2cfea1d",
   "metadata": {},
   "outputs": [
    {
     "data": {
      "text/html": [
       "<div>\n",
       "<style scoped>\n",
       "    .dataframe tbody tr th:only-of-type {\n",
       "        vertical-align: middle;\n",
       "    }\n",
       "\n",
       "    .dataframe tbody tr th {\n",
       "        vertical-align: top;\n",
       "    }\n",
       "\n",
       "    .dataframe thead th {\n",
       "        text-align: right;\n",
       "    }\n",
       "</style>\n",
       "<table border=\"1\" class=\"dataframe\">\n",
       "  <thead>\n",
       "    <tr style=\"text-align: right;\">\n",
       "      <th></th>\n",
       "      <th>full_text</th>\n",
       "      <th>sentimen</th>\n",
       "    </tr>\n",
       "  </thead>\n",
       "  <tbody>\n",
       "    <tr>\n",
       "      <th>0</th>\n",
       "      <td>@ekowboy2 . Ambil Bansosnya  Pilihannya tetap ...</td>\n",
       "      <td>positif</td>\n",
       "    </tr>\n",
       "    <tr>\n",
       "      <th>1</th>\n",
       "      <td>@Dahnilanzar @prabowo @gibran_tweet padahal @F...</td>\n",
       "      <td>negatif</td>\n",
       "    </tr>\n",
       "    <tr>\n",
       "      <th>2</th>\n",
       "      <td>@Utiah_Mak Aamiin alhamdulillah Smg hasil ini ...</td>\n",
       "      <td>positif</td>\n",
       "    </tr>\n",
       "    <tr>\n",
       "      <th>3</th>\n",
       "      <td>Ratusan Personel Gabungan Disiapkan Amankan Ka...</td>\n",
       "      <td>positif</td>\n",
       "    </tr>\n",
       "    <tr>\n",
       "      <th>4</th>\n",
       "      <td>Amin = Asal jangan  Anis Muhaimin ??????</td>\n",
       "      <td>negatif</td>\n",
       "    </tr>\n",
       "    <tr>\n",
       "      <th>...</th>\n",
       "      <td>...</td>\n",
       "      <td>...</td>\n",
       "    </tr>\n",
       "    <tr>\n",
       "      <th>3477</th>\n",
       "      <td>Faktanya CUPU sok SUHU..  #anakpresiden #Ganja...</td>\n",
       "      <td>negatif</td>\n",
       "    </tr>\n",
       "    <tr>\n",
       "      <th>3478</th>\n",
       "      <td>@cagubnyinyir2 @BoyMantouw @mas_alku @wonggend...</td>\n",
       "      <td>negatif</td>\n",
       "    </tr>\n",
       "    <tr>\n",
       "      <th>3479</th>\n",
       "      <td>@Andi54582715 @Omnya_Gibran @jokowi Memang Klo...</td>\n",
       "      <td>negatif</td>\n",
       "    </tr>\n",
       "    <tr>\n",
       "      <th>3480</th>\n",
       "      <td>Jelaskan Jangan Membodohi Rakyat dan Pengamat ...</td>\n",
       "      <td>negatif</td>\n",
       "    </tr>\n",
       "    <tr>\n",
       "      <th>3481</th>\n",
       "      <td>@xquitavee GanjarMahfud terbaik. Tidak nyulik ...</td>\n",
       "      <td>negatif</td>\n",
       "    </tr>\n",
       "  </tbody>\n",
       "</table>\n",
       "<p>3482 rows × 2 columns</p>\n",
       "</div>"
      ],
      "text/plain": [
       "                                              full_text sentimen\n",
       "0     @ekowboy2 . Ambil Bansosnya  Pilihannya tetap ...  positif\n",
       "1     @Dahnilanzar @prabowo @gibran_tweet padahal @F...  negatif\n",
       "2     @Utiah_Mak Aamiin alhamdulillah Smg hasil ini ...  positif\n",
       "3     Ratusan Personel Gabungan Disiapkan Amankan Ka...  positif\n",
       "4              Amin = Asal jangan  Anis Muhaimin ??????  negatif\n",
       "...                                                 ...      ...\n",
       "3477  Faktanya CUPU sok SUHU..  #anakpresiden #Ganja...  negatif\n",
       "3478  @cagubnyinyir2 @BoyMantouw @mas_alku @wonggend...  negatif\n",
       "3479  @Andi54582715 @Omnya_Gibran @jokowi Memang Klo...  negatif\n",
       "3480  Jelaskan Jangan Membodohi Rakyat dan Pengamat ...  negatif\n",
       "3481  @xquitavee GanjarMahfud terbaik. Tidak nyulik ...  negatif\n",
       "\n",
       "[3482 rows x 2 columns]"
      ]
     },
     "execution_count": 37,
     "metadata": {},
     "output_type": "execute_result"
    }
   ],
   "source": [
    "# Gabungkan semua data\n",
    "dataset = [data_anis, data_prabowo, data_ganjar]\n",
    "dataset = pd.concat(dataset, ignore_index=True)\n",
    "dataset"
   ]
  },
  {
   "cell_type": "code",
   "execution_count": 38,
   "id": "cb7ab278",
   "metadata": {},
   "outputs": [
    {
     "data": {
      "text/plain": [
       "full_text    0\n",
       "sentimen     0\n",
       "dtype: int64"
      ]
     },
     "execution_count": 38,
     "metadata": {},
     "output_type": "execute_result"
    }
   ],
   "source": [
    "# Melihat data kosong \n",
    "dataset.isnull().sum()"
   ]
  },
  {
   "cell_type": "code",
   "execution_count": 39,
   "id": "4ffab64d",
   "metadata": {},
   "outputs": [
    {
     "data": {
      "text/plain": [
       "32"
      ]
     },
     "execution_count": 39,
     "metadata": {},
     "output_type": "execute_result"
    }
   ],
   "source": [
    "# Melihat data duplicate dan mengahapusnya\n",
    "dataset.duplicated().sum()"
   ]
  },
  {
   "cell_type": "code",
   "execution_count": 41,
   "id": "3e45ba4c",
   "metadata": {},
   "outputs": [
    {
     "data": {
      "text/plain": [
       "0"
      ]
     },
     "execution_count": 41,
     "metadata": {},
     "output_type": "execute_result"
    }
   ],
   "source": [
    "dataset = dataset.drop_duplicates()\n",
    "dataset.duplicated().sum()"
   ]
  },
  {
   "cell_type": "code",
   "execution_count": 42,
   "id": "0637ce38",
   "metadata": {},
   "outputs": [
    {
     "data": {
      "text/html": [
       "<div>\n",
       "<style scoped>\n",
       "    .dataframe tbody tr th:only-of-type {\n",
       "        vertical-align: middle;\n",
       "    }\n",
       "\n",
       "    .dataframe tbody tr th {\n",
       "        vertical-align: top;\n",
       "    }\n",
       "\n",
       "    .dataframe thead th {\n",
       "        text-align: right;\n",
       "    }\n",
       "</style>\n",
       "<table border=\"1\" class=\"dataframe\">\n",
       "  <thead>\n",
       "    <tr style=\"text-align: right;\">\n",
       "      <th></th>\n",
       "      <th>full_text</th>\n",
       "      <th>sentimen</th>\n",
       "    </tr>\n",
       "  </thead>\n",
       "  <tbody>\n",
       "    <tr>\n",
       "      <th>0</th>\n",
       "      <td>@ekowboy2 . Ambil Bansosnya  Pilihannya tetap ...</td>\n",
       "      <td>positif</td>\n",
       "    </tr>\n",
       "    <tr>\n",
       "      <th>1</th>\n",
       "      <td>@Dahnilanzar @prabowo @gibran_tweet padahal @F...</td>\n",
       "      <td>negatif</td>\n",
       "    </tr>\n",
       "    <tr>\n",
       "      <th>2</th>\n",
       "      <td>@Utiah_Mak Aamiin alhamdulillah Smg hasil ini ...</td>\n",
       "      <td>positif</td>\n",
       "    </tr>\n",
       "    <tr>\n",
       "      <th>3</th>\n",
       "      <td>Ratusan Personel Gabungan Disiapkan Amankan Ka...</td>\n",
       "      <td>positif</td>\n",
       "    </tr>\n",
       "    <tr>\n",
       "      <th>4</th>\n",
       "      <td>Amin = Asal jangan  Anis Muhaimin ??????</td>\n",
       "      <td>negatif</td>\n",
       "    </tr>\n",
       "    <tr>\n",
       "      <th>...</th>\n",
       "      <td>...</td>\n",
       "      <td>...</td>\n",
       "    </tr>\n",
       "    <tr>\n",
       "      <th>3446</th>\n",
       "      <td>merakyat bukanlah sekadar kata kata kosong bag...</td>\n",
       "      <td>positif</td>\n",
       "    </tr>\n",
       "    <tr>\n",
       "      <th>3447</th>\n",
       "      <td>Ganjar – Mahfud Akan Bentuk Kabinet Bersih dan...</td>\n",
       "      <td>positif</td>\n",
       "    </tr>\n",
       "    <tr>\n",
       "      <th>3448</th>\n",
       "      <td>@antaranews merakyat bukanlah sekadar kata kat...</td>\n",
       "      <td>positif</td>\n",
       "    </tr>\n",
       "    <tr>\n",
       "      <th>3449</th>\n",
       "      <td>@ganjarpranowo rakyat akan selalu mendukung da...</td>\n",
       "      <td>positif</td>\n",
       "    </tr>\n",
       "    <tr>\n",
       "      <th>3450</th>\n",
       "      <td>@ganjarpranowo mari berantas para koruptor ber...</td>\n",
       "      <td>positif</td>\n",
       "    </tr>\n",
       "  </tbody>\n",
       "</table>\n",
       "<p>3450 rows × 2 columns</p>\n",
       "</div>"
      ],
      "text/plain": [
       "                                              full_text sentimen\n",
       "0     @ekowboy2 . Ambil Bansosnya  Pilihannya tetap ...  positif\n",
       "1     @Dahnilanzar @prabowo @gibran_tweet padahal @F...  negatif\n",
       "2     @Utiah_Mak Aamiin alhamdulillah Smg hasil ini ...  positif\n",
       "3     Ratusan Personel Gabungan Disiapkan Amankan Ka...  positif\n",
       "4              Amin = Asal jangan  Anis Muhaimin ??????  negatif\n",
       "...                                                 ...      ...\n",
       "3446  merakyat bukanlah sekadar kata kata kosong bag...  positif\n",
       "3447  Ganjar – Mahfud Akan Bentuk Kabinet Bersih dan...  positif\n",
       "3448  @antaranews merakyat bukanlah sekadar kata kat...  positif\n",
       "3449  @ganjarpranowo rakyat akan selalu mendukung da...  positif\n",
       "3450  @ganjarpranowo mari berantas para koruptor ber...  positif\n",
       "\n",
       "[3450 rows x 2 columns]"
      ]
     },
     "execution_count": 42,
     "metadata": {},
     "output_type": "execute_result"
    }
   ],
   "source": [
    "dataset"
   ]
  },
  {
   "cell_type": "code",
   "execution_count": 43,
   "id": "a9e11537",
   "metadata": {},
   "outputs": [],
   "source": [
    "dataset.to_csv(\"dataset_kirim_ke_pak.csv\", index=False)"
   ]
  },
  {
   "cell_type": "code",
   "execution_count": 45,
   "id": "d4c6f44a",
   "metadata": {},
   "outputs": [
    {
     "data": {
      "text/html": [
       "<div>\n",
       "<style scoped>\n",
       "    .dataframe tbody tr th:only-of-type {\n",
       "        vertical-align: middle;\n",
       "    }\n",
       "\n",
       "    .dataframe tbody tr th {\n",
       "        vertical-align: top;\n",
       "    }\n",
       "\n",
       "    .dataframe thead th {\n",
       "        text-align: right;\n",
       "    }\n",
       "</style>\n",
       "<table border=\"1\" class=\"dataframe\">\n",
       "  <thead>\n",
       "    <tr style=\"text-align: right;\">\n",
       "      <th></th>\n",
       "      <th>full_text</th>\n",
       "      <th>sentimen</th>\n",
       "    </tr>\n",
       "  </thead>\n",
       "  <tbody>\n",
       "    <tr>\n",
       "      <th>0</th>\n",
       "      <td>@ekowboy2 . Ambil Bansosnya  Pilihannya tetap ...</td>\n",
       "      <td>positif</td>\n",
       "    </tr>\n",
       "    <tr>\n",
       "      <th>1</th>\n",
       "      <td>@Dahnilanzar @prabowo @gibran_tweet padahal @F...</td>\n",
       "      <td>negatif</td>\n",
       "    </tr>\n",
       "    <tr>\n",
       "      <th>2</th>\n",
       "      <td>@Utiah_Mak Aamiin alhamdulillah Smg hasil ini ...</td>\n",
       "      <td>positif</td>\n",
       "    </tr>\n",
       "    <tr>\n",
       "      <th>3</th>\n",
       "      <td>Ratusan Personel Gabungan Disiapkan Amankan Ka...</td>\n",
       "      <td>positif</td>\n",
       "    </tr>\n",
       "    <tr>\n",
       "      <th>4</th>\n",
       "      <td>Amin = Asal jangan  Anis Muhaimin ??????</td>\n",
       "      <td>negatif</td>\n",
       "    </tr>\n",
       "    <tr>\n",
       "      <th>...</th>\n",
       "      <td>...</td>\n",
       "      <td>...</td>\n",
       "    </tr>\n",
       "    <tr>\n",
       "      <th>3445</th>\n",
       "      <td>merakyat bukanlah sekadar kata kata kosong bag...</td>\n",
       "      <td>positif</td>\n",
       "    </tr>\n",
       "    <tr>\n",
       "      <th>3446</th>\n",
       "      <td>Ganjar – Mahfud Akan Bentuk Kabinet Bersih dan...</td>\n",
       "      <td>positif</td>\n",
       "    </tr>\n",
       "    <tr>\n",
       "      <th>3447</th>\n",
       "      <td>@antaranews merakyat bukanlah sekadar kata kat...</td>\n",
       "      <td>positif</td>\n",
       "    </tr>\n",
       "    <tr>\n",
       "      <th>3448</th>\n",
       "      <td>@ganjarpranowo rakyat akan selalu mendukung da...</td>\n",
       "      <td>positif</td>\n",
       "    </tr>\n",
       "    <tr>\n",
       "      <th>3449</th>\n",
       "      <td>@ganjarpranowo mari berantas para koruptor ber...</td>\n",
       "      <td>positif</td>\n",
       "    </tr>\n",
       "  </tbody>\n",
       "</table>\n",
       "<p>3450 rows × 2 columns</p>\n",
       "</div>"
      ],
      "text/plain": [
       "                                              full_text sentimen\n",
       "0     @ekowboy2 . Ambil Bansosnya  Pilihannya tetap ...  positif\n",
       "1     @Dahnilanzar @prabowo @gibran_tweet padahal @F...  negatif\n",
       "2     @Utiah_Mak Aamiin alhamdulillah Smg hasil ini ...  positif\n",
       "3     Ratusan Personel Gabungan Disiapkan Amankan Ka...  positif\n",
       "4              Amin = Asal jangan  Anis Muhaimin ??????  negatif\n",
       "...                                                 ...      ...\n",
       "3445  merakyat bukanlah sekadar kata kata kosong bag...  positif\n",
       "3446  Ganjar – Mahfud Akan Bentuk Kabinet Bersih dan...  positif\n",
       "3447  @antaranews merakyat bukanlah sekadar kata kat...  positif\n",
       "3448  @ganjarpranowo rakyat akan selalu mendukung da...  positif\n",
       "3449  @ganjarpranowo mari berantas para koruptor ber...  positif\n",
       "\n",
       "[3450 rows x 2 columns]"
      ]
     },
     "execution_count": 45,
     "metadata": {},
     "output_type": "execute_result"
    }
   ],
   "source": [
    "d = pd.read_csv('dataset_kirim_ke_pak.csv')\n",
    "d"
   ]
  },
  {
   "cell_type": "code",
   "execution_count": 46,
   "id": "8ba7420f",
   "metadata": {},
   "outputs": [
    {
     "data": {
      "text/plain": [
       "full_text    0\n",
       "sentimen     0\n",
       "dtype: int64"
      ]
     },
     "execution_count": 46,
     "metadata": {},
     "output_type": "execute_result"
    }
   ],
   "source": [
    "d.isnull().sum()"
   ]
  },
  {
   "cell_type": "code",
   "execution_count": 47,
   "id": "eb786ce3",
   "metadata": {},
   "outputs": [
    {
     "data": {
      "text/plain": [
       "0"
      ]
     },
     "execution_count": 47,
     "metadata": {},
     "output_type": "execute_result"
    }
   ],
   "source": [
    "d.duplicated().sum()"
   ]
  },
  {
   "cell_type": "code",
   "execution_count": null,
   "id": "3851404c",
   "metadata": {},
   "outputs": [],
   "source": []
  }
 ],
 "metadata": {
  "kernelspec": {
   "display_name": "Python 3 (ipykernel)",
   "language": "python",
   "name": "python3"
  },
  "language_info": {
   "codemirror_mode": {
    "name": "ipython",
    "version": 3
   },
   "file_extension": ".py",
   "mimetype": "text/x-python",
   "name": "python",
   "nbconvert_exporter": "python",
   "pygments_lexer": "ipython3",
   "version": "3.10.7"
  }
 },
 "nbformat": 4,
 "nbformat_minor": 5
}

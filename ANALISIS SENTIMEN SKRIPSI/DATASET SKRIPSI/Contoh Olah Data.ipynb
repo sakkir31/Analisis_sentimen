{
 "cells": [
  {
   "cell_type": "code",
   "execution_count": 43,
   "id": "c95f1121",
   "metadata": {},
   "outputs": [],
   "source": [
    "import pandas as pd\n",
    "import re\n",
    "import seaborn as sns\n",
    "import matplotlib.pyplot as plt"
   ]
  },
  {
   "cell_type": "code",
   "execution_count": 44,
   "id": "7f324aa6",
   "metadata": {},
   "outputs": [
    {
     "data": {
      "text/html": [
       "<div>\n",
       "<style scoped>\n",
       "    .dataframe tbody tr th:only-of-type {\n",
       "        vertical-align: middle;\n",
       "    }\n",
       "\n",
       "    .dataframe tbody tr th {\n",
       "        vertical-align: top;\n",
       "    }\n",
       "\n",
       "    .dataframe thead th {\n",
       "        text-align: right;\n",
       "    }\n",
       "</style>\n",
       "<table border=\"1\" class=\"dataframe\">\n",
       "  <thead>\n",
       "    <tr style=\"text-align: right;\">\n",
       "      <th></th>\n",
       "      <th>full_text</th>\n",
       "      <th>sentimen</th>\n",
       "    </tr>\n",
       "  </thead>\n",
       "  <tbody>\n",
       "    <tr>\n",
       "      <th>0</th>\n",
       "      <td>Dukungan trus mengalir untuk prabowo gibran se...</td>\n",
       "      <td>positif</td>\n",
       "    </tr>\n",
       "    <tr>\n",
       "      <th>1</th>\n",
       "      <td>Tetap kita dukung prabowo gibran</td>\n",
       "      <td>positif</td>\n",
       "    </tr>\n",
       "    <tr>\n",
       "      <th>2</th>\n",
       "      <td>Kita mendukung untuk Prabowo Gibran</td>\n",
       "      <td>positif</td>\n",
       "    </tr>\n",
       "    <tr>\n",
       "      <th>3</th>\n",
       "      <td>Ngeri tkut main Curang kaya 2019</td>\n",
       "      <td>negatif</td>\n",
       "    </tr>\n",
       "    <tr>\n",
       "      <th>4</th>\n",
       "      <td>Lah sekarang juga udah keliatan curangnya</td>\n",
       "      <td>negatif</td>\n",
       "    </tr>\n",
       "    <tr>\n",
       "      <th>5</th>\n",
       "      <td>Klo dipaksa satu putaran dengan kecurangan ya ...</td>\n",
       "      <td>negatif</td>\n",
       "    </tr>\n",
       "  </tbody>\n",
       "</table>\n",
       "</div>"
      ],
      "text/plain": [
       "                                           full_text sentimen\n",
       "0  Dukungan trus mengalir untuk prabowo gibran se...  positif\n",
       "1                   Tetap kita dukung prabowo gibran  positif\n",
       "2                Kita mendukung untuk Prabowo Gibran  positif\n",
       "3                   Ngeri tkut main Curang kaya 2019  negatif\n",
       "4          Lah sekarang juga udah keliatan curangnya  negatif\n",
       "5  Klo dipaksa satu putaran dengan kecurangan ya ...  negatif"
      ]
     },
     "execution_count": 44,
     "metadata": {},
     "output_type": "execute_result"
    }
   ],
   "source": [
    "# Read the CSV file into a pandas DataFrame\n",
    "df = pd.read_csv('hitungan_manual.csv')\n",
    "\n",
    "# Display the DataFrame\n",
    "data = df[['full_text','sentimen']]\n",
    "data"
   ]
  },
  {
   "cell_type": "code",
   "execution_count": 45,
   "id": "a9ac9580",
   "metadata": {},
   "outputs": [
    {
     "data": {
      "text/html": [
       "<div>\n",
       "<style scoped>\n",
       "    .dataframe tbody tr th:only-of-type {\n",
       "        vertical-align: middle;\n",
       "    }\n",
       "\n",
       "    .dataframe tbody tr th {\n",
       "        vertical-align: top;\n",
       "    }\n",
       "\n",
       "    .dataframe thead th {\n",
       "        text-align: right;\n",
       "    }\n",
       "</style>\n",
       "<table border=\"1\" class=\"dataframe\">\n",
       "  <thead>\n",
       "    <tr style=\"text-align: right;\">\n",
       "      <th></th>\n",
       "      <th>full_text</th>\n",
       "      <th>sentimen</th>\n",
       "    </tr>\n",
       "  </thead>\n",
       "  <tbody>\n",
       "    <tr>\n",
       "      <th>0</th>\n",
       "      <td>dukungan trus mengalir untuk prabowo gibran se...</td>\n",
       "      <td>positif</td>\n",
       "    </tr>\n",
       "    <tr>\n",
       "      <th>1</th>\n",
       "      <td>tetap kita dukung prabowo gibran</td>\n",
       "      <td>positif</td>\n",
       "    </tr>\n",
       "    <tr>\n",
       "      <th>2</th>\n",
       "      <td>kita mendukung untuk prabowo gibran</td>\n",
       "      <td>positif</td>\n",
       "    </tr>\n",
       "    <tr>\n",
       "      <th>3</th>\n",
       "      <td>ngeri tkut main curang kaya 2019</td>\n",
       "      <td>negatif</td>\n",
       "    </tr>\n",
       "    <tr>\n",
       "      <th>4</th>\n",
       "      <td>lah sekarang juga udah keliatan curangnya</td>\n",
       "      <td>negatif</td>\n",
       "    </tr>\n",
       "    <tr>\n",
       "      <th>5</th>\n",
       "      <td>klo dipaksa satu putaran dengan kecurangan ya ...</td>\n",
       "      <td>negatif</td>\n",
       "    </tr>\n",
       "  </tbody>\n",
       "</table>\n",
       "</div>"
      ],
      "text/plain": [
       "                                           full_text sentimen\n",
       "0  dukungan trus mengalir untuk prabowo gibran se...  positif\n",
       "1                   tetap kita dukung prabowo gibran  positif\n",
       "2                kita mendukung untuk prabowo gibran  positif\n",
       "3                   ngeri tkut main curang kaya 2019  negatif\n",
       "4          lah sekarang juga udah keliatan curangnya  negatif\n",
       "5  klo dipaksa satu putaran dengan kecurangan ya ...  negatif"
      ]
     },
     "execution_count": 45,
     "metadata": {},
     "output_type": "execute_result"
    }
   ],
   "source": [
    "# Mengubah kata Huruf besar menjadi huruf kecil\n",
    "data['full_text'] = data['full_text'].str.lower()\n",
    "data"
   ]
  },
  {
   "cell_type": "code",
   "execution_count": 46,
   "id": "96a0b331",
   "metadata": {},
   "outputs": [
    {
     "data": {
      "text/html": [
       "<div>\n",
       "<style scoped>\n",
       "    .dataframe tbody tr th:only-of-type {\n",
       "        vertical-align: middle;\n",
       "    }\n",
       "\n",
       "    .dataframe tbody tr th {\n",
       "        vertical-align: top;\n",
       "    }\n",
       "\n",
       "    .dataframe thead th {\n",
       "        text-align: right;\n",
       "    }\n",
       "</style>\n",
       "<table border=\"1\" class=\"dataframe\">\n",
       "  <thead>\n",
       "    <tr style=\"text-align: right;\">\n",
       "      <th></th>\n",
       "      <th>full_text</th>\n",
       "      <th>sentimen</th>\n",
       "    </tr>\n",
       "  </thead>\n",
       "  <tbody>\n",
       "    <tr>\n",
       "      <th>0</th>\n",
       "      <td>dukungan trus mengalir prabowo semakin kuat</td>\n",
       "      <td>positif</td>\n",
       "    </tr>\n",
       "    <tr>\n",
       "      <th>1</th>\n",
       "      <td>tetap dukung gibran</td>\n",
       "      <td>positif</td>\n",
       "    </tr>\n",
       "    <tr>\n",
       "      <th>2</th>\n",
       "      <td>mendukung prabowo</td>\n",
       "      <td>positif</td>\n",
       "    </tr>\n",
       "    <tr>\n",
       "      <th>3</th>\n",
       "      <td>ngeri tkut main curang kaya 2019</td>\n",
       "      <td>negatif</td>\n",
       "    </tr>\n",
       "    <tr>\n",
       "      <th>4</th>\n",
       "      <td>lah sekarang udah keliatan curangnya</td>\n",
       "      <td>negatif</td>\n",
       "    </tr>\n",
       "    <tr>\n",
       "      <th>5</th>\n",
       "      <td>klo dipaksa satu putaran kecurangan tambah ric...</td>\n",
       "      <td>negatif</td>\n",
       "    </tr>\n",
       "  </tbody>\n",
       "</table>\n",
       "</div>"
      ],
      "text/plain": [
       "                                           full_text sentimen\n",
       "0        dukungan trus mengalir prabowo semakin kuat  positif\n",
       "1                                tetap dukung gibran  positif\n",
       "2                                  mendukung prabowo  positif\n",
       "3                   ngeri tkut main curang kaya 2019  negatif\n",
       "4               lah sekarang udah keliatan curangnya  negatif\n",
       "5  klo dipaksa satu putaran kecurangan tambah ric...  negatif"
      ]
     },
     "execution_count": 46,
     "metadata": {},
     "output_type": "execute_result"
    }
   ],
   "source": [
    "# Menghilangkan kata-kata yang tidak memilki bobot\n",
    "import Sastrawi\n",
    "from Sastrawi.StopWordRemover.StopWordRemoverFactory import StopWordRemoverFactory, StopWordRemover, ArrayDictionary\n",
    "more_stop_word = [\"tidak\",\"prabowo\",\"gibran\",\"anis\",\"muhaimin\",\"ganjar\",\"mahfud\"]\n",
    "\n",
    "stop_words = StopWordRemoverFactory().get_stop_words()\n",
    "stop_words.extend(more_stop_word)\n",
    "\n",
    "new_array = ArrayDictionary(stop_words)\n",
    "stop_words_remover_new = StopWordRemover(new_array)\n",
    "\n",
    "def stopword(str_text):\n",
    "    str_text = stop_words_remover_new.remove(str_text)\n",
    "    return str_text\n",
    "\n",
    "data['full_text'] = data['full_text'].apply(lambda x: stopword(x))\n",
    "data"
   ]
  },
  {
   "cell_type": "code",
   "execution_count": 47,
   "id": "fcdf1076",
   "metadata": {},
   "outputs": [
    {
     "data": {
      "text/html": [
       "<div>\n",
       "<style scoped>\n",
       "    .dataframe tbody tr th:only-of-type {\n",
       "        vertical-align: middle;\n",
       "    }\n",
       "\n",
       "    .dataframe tbody tr th {\n",
       "        vertical-align: top;\n",
       "    }\n",
       "\n",
       "    .dataframe thead th {\n",
       "        text-align: right;\n",
       "    }\n",
       "</style>\n",
       "<table border=\"1\" class=\"dataframe\">\n",
       "  <thead>\n",
       "    <tr style=\"text-align: right;\">\n",
       "      <th></th>\n",
       "      <th>full_text</th>\n",
       "      <th>sentimen</th>\n",
       "    </tr>\n",
       "  </thead>\n",
       "  <tbody>\n",
       "    <tr>\n",
       "      <th>0</th>\n",
       "      <td>dukungan terus mengalir  semakin kuat</td>\n",
       "      <td>positif</td>\n",
       "    </tr>\n",
       "    <tr>\n",
       "      <th>1</th>\n",
       "      <td>tetap dukung</td>\n",
       "      <td>positif</td>\n",
       "    </tr>\n",
       "    <tr>\n",
       "      <th>2</th>\n",
       "      <td>mendukung</td>\n",
       "      <td>positif</td>\n",
       "    </tr>\n",
       "    <tr>\n",
       "      <th>3</th>\n",
       "      <td>ngeri takut main curang kaya 2019</td>\n",
       "      <td>negatif</td>\n",
       "    </tr>\n",
       "    <tr>\n",
       "      <th>4</th>\n",
       "      <td>lah sekarang udah keliatan curangnya</td>\n",
       "      <td>negatif</td>\n",
       "    </tr>\n",
       "    <tr>\n",
       "      <th>5</th>\n",
       "      <td>klo dipaksa satu putaran kecurangan tambah ric...</td>\n",
       "      <td>negatif</td>\n",
       "    </tr>\n",
       "  </tbody>\n",
       "</table>\n",
       "</div>"
      ],
      "text/plain": [
       "                                           full_text sentimen\n",
       "0              dukungan terus mengalir  semakin kuat  positif\n",
       "1                                      tetap dukung   positif\n",
       "2                                         mendukung   positif\n",
       "3                  ngeri takut main curang kaya 2019  negatif\n",
       "4               lah sekarang udah keliatan curangnya  negatif\n",
       "5  klo dipaksa satu putaran kecurangan tambah ric...  negatif"
      ]
     },
     "execution_count": 47,
     "metadata": {},
     "output_type": "execute_result"
    }
   ],
   "source": [
    "# Mengubah kata singkat menjadi normal\n",
    "norm = {'sy':'saya','tau':'tahu','perubahancoblos':'perubahan coblos','utk':'untuk',\n",
    "        'yg':'yang','org':'orang','pd':'pada','ganjar':'','mahfud':'','prabowo':'',\n",
    "        'gibran':'','anis':'','muhaimin':'','trus':'terus','tkut':'takut'}\n",
    "\n",
    "def normalisasi(str_text):\n",
    "    for i in norm:\n",
    "        str_text = str_text.replace(i, norm[i])\n",
    "    return str_text\n",
    "\n",
    "data['full_text'] = data['full_text'].apply(lambda x:normalisasi(x))\n",
    "data"
   ]
  },
  {
   "cell_type": "code",
   "execution_count": 48,
   "id": "5d3bcc4a",
   "metadata": {},
   "outputs": [
    {
     "data": {
      "text/plain": [
       "0           [dukungan, terus, mengalir, semakin, kuat]\n",
       "1                                      [tetap, dukung]\n",
       "2                                          [mendukung]\n",
       "3             [ngeri, takut, main, curang, kaya, 2019]\n",
       "4           [lah, sekarang, udah, keliatan, curangnya]\n",
       "5    [klo, dipaksa, satu, putaran, kecurangan, tamb...\n",
       "Name: full_text, dtype: object"
      ]
     },
     "execution_count": 48,
     "metadata": {},
     "output_type": "execute_result"
    }
   ],
   "source": [
    "# Memisahkan kata dalam suatu kalimat\n",
    "tokenized = data['full_text'].apply(lambda x:x.split())\n",
    "tokenized"
   ]
  },
  {
   "cell_type": "code",
   "execution_count": 49,
   "id": "0d066506",
   "metadata": {},
   "outputs": [
    {
     "name": "stdout",
     "output_type": "stream",
     "text": [
      "dukung terus alir makin kuat\n",
      "tetap dukung\n",
      "dukung\n",
      "ngeri takut main curang kaya 2019\n",
      "lah sekarang udah liat curang\n",
      "klo paksa satu putar curang tambah ricuh suasana\n"
     ]
    }
   ],
   "source": [
    "# Mengubah kata imbuhan menjadi kata dasar\n",
    "from Sastrawi.Stemmer.StemmerFactory import StemmerFactory\n",
    "\n",
    "def stemming(text_cleaning):\n",
    "    factory = StemmerFactory()\n",
    "    stemmer = factory.create_stemmer()\n",
    "    do = []\n",
    "    for w in text_cleaning:\n",
    "        dt = stemmer.stem(w)\n",
    "        do.append(dt)\n",
    "    d_clean = []\n",
    "    d_clean = \" \".join(do)\n",
    "    print(d_clean)\n",
    "    return d_clean\n",
    "\n",
    "tokenized = tokenized.apply(stemming)"
   ]
  },
  {
   "cell_type": "code",
   "execution_count": 50,
   "id": "40217d75",
   "metadata": {},
   "outputs": [],
   "source": [
    "data = pd.merge(tokenized, data[['sentimen']], left_index=True, right_index=True)"
   ]
  },
  {
   "cell_type": "code",
   "execution_count": 51,
   "id": "f6d78979",
   "metadata": {},
   "outputs": [],
   "source": [
    "data.to_csv(\"hasil_stemming_coba.csv\", index=False)"
   ]
  },
  {
   "cell_type": "code",
   "execution_count": 52,
   "id": "52b53cf1",
   "metadata": {},
   "outputs": [
    {
     "data": {
      "text/html": [
       "<div>\n",
       "<style scoped>\n",
       "    .dataframe tbody tr th:only-of-type {\n",
       "        vertical-align: middle;\n",
       "    }\n",
       "\n",
       "    .dataframe tbody tr th {\n",
       "        vertical-align: top;\n",
       "    }\n",
       "\n",
       "    .dataframe thead th {\n",
       "        text-align: right;\n",
       "    }\n",
       "</style>\n",
       "<table border=\"1\" class=\"dataframe\">\n",
       "  <thead>\n",
       "    <tr style=\"text-align: right;\">\n",
       "      <th></th>\n",
       "      <th>full_text</th>\n",
       "      <th>sentimen</th>\n",
       "    </tr>\n",
       "  </thead>\n",
       "  <tbody>\n",
       "    <tr>\n",
       "      <th>0</th>\n",
       "      <td>dukung terus alir makin kuat</td>\n",
       "      <td>positif</td>\n",
       "    </tr>\n",
       "    <tr>\n",
       "      <th>1</th>\n",
       "      <td>tetap dukung</td>\n",
       "      <td>positif</td>\n",
       "    </tr>\n",
       "    <tr>\n",
       "      <th>2</th>\n",
       "      <td>dukung</td>\n",
       "      <td>positif</td>\n",
       "    </tr>\n",
       "    <tr>\n",
       "      <th>3</th>\n",
       "      <td>ngeri takut main curang kaya 2019</td>\n",
       "      <td>negatif</td>\n",
       "    </tr>\n",
       "    <tr>\n",
       "      <th>4</th>\n",
       "      <td>lah sekarang udah liat curang</td>\n",
       "      <td>negatif</td>\n",
       "    </tr>\n",
       "    <tr>\n",
       "      <th>5</th>\n",
       "      <td>klo paksa satu putar curang tambah ricuh suasana</td>\n",
       "      <td>negatif</td>\n",
       "    </tr>\n",
       "  </tbody>\n",
       "</table>\n",
       "</div>"
      ],
      "text/plain": [
       "                                          full_text sentimen\n",
       "0                      dukung terus alir makin kuat  positif\n",
       "1                                      tetap dukung  positif\n",
       "2                                            dukung  positif\n",
       "3                 ngeri takut main curang kaya 2019  negatif\n",
       "4                     lah sekarang udah liat curang  negatif\n",
       "5  klo paksa satu putar curang tambah ricuh suasana  negatif"
      ]
     },
     "execution_count": 52,
     "metadata": {},
     "output_type": "execute_result"
    }
   ],
   "source": [
    "data = pd.read_csv(\"hasil_stemming_coba.csv\")\n",
    "data"
   ]
  },
  {
   "cell_type": "code",
   "execution_count": null,
   "id": "f2cc38fb",
   "metadata": {},
   "outputs": [],
   "source": []
  },
  {
   "cell_type": "code",
   "execution_count": null,
   "id": "321cf859",
   "metadata": {},
   "outputs": [],
   "source": []
  },
  {
   "cell_type": "code",
   "execution_count": null,
   "id": "adf18165",
   "metadata": {},
   "outputs": [],
   "source": []
  },
  {
   "cell_type": "code",
   "execution_count": null,
   "id": "36389776",
   "metadata": {},
   "outputs": [],
   "source": []
  },
  {
   "cell_type": "code",
   "execution_count": 53,
   "id": "2a84c1ee",
   "metadata": {},
   "outputs": [],
   "source": [
    "# ekstaksi fitur tf-idf\n",
    "from sklearn.feature_extraction.text import TfidfVectorizer"
   ]
  },
  {
   "cell_type": "code",
   "execution_count": 59,
   "id": "37161b08",
   "metadata": {},
   "outputs": [
    {
     "data": {
      "text/plain": [
       "0                        dukung terus alir makin kuat\n",
       "1                                        tetap dukung\n",
       "2                                              dukung\n",
       "3                   ngeri takut main curang kaya 2019\n",
       "4                       lah sekarang udah liat curang\n",
       "5    klo paksa satu putar curang tambah ricuh suasana\n",
       "Name: full_text, dtype: object"
      ]
     },
     "execution_count": 59,
     "metadata": {},
     "output_type": "execute_result"
    }
   ],
   "source": [
    "x = data['full_text']\n",
    "x"
   ]
  },
  {
   "cell_type": "code",
   "execution_count": 60,
   "id": "d064794c",
   "metadata": {},
   "outputs": [],
   "source": [
    "tfidf_vectorizer = TfidfVectorizer()\n",
    "x_tfidf = tfidf_vectorizer.fit_transform(x)"
   ]
  },
  {
   "cell_type": "code",
   "execution_count": 61,
   "id": "a41656b8",
   "metadata": {},
   "outputs": [
    {
     "name": "stdout",
     "output_type": "stream",
     "text": [
      "  (0, 6)\t0.47249269128933835\n",
      "  (0, 10)\t0.47249269128933835\n",
      "  (0, 1)\t0.47249269128933835\n",
      "  (0, 20)\t0.47249269128933835\n",
      "  (0, 3)\t0.32711255969869474\n",
      "  (1, 21)\t0.8221903715494888\n",
      "  (1, 3)\t0.5692126078464125\n",
      "  (2, 3)\t1.0\n",
      "  (3, 0)\t0.42720625161336534\n",
      "  (3, 4)\t0.42720625161336534\n",
      "  (3, 2)\t0.2957601949422701\n",
      "  (3, 9)\t0.42720625161336534\n",
      "  (3, 18)\t0.42720625161336534\n",
      "  (3, 11)\t0.42720625161336534\n",
      "  (4, 8)\t0.47249269128933835\n",
      "  (4, 22)\t0.47249269128933835\n",
      "  (4, 16)\t0.47249269128933835\n",
      "  (4, 7)\t0.47249269128933835\n",
      "  (4, 2)\t0.32711255969869474\n",
      "  (5, 17)\t0.3656534077034961\n",
      "  (5, 14)\t0.3656534077034961\n",
      "  (5, 19)\t0.3656534077034961\n",
      "  (5, 13)\t0.3656534077034961\n",
      "  (5, 15)\t0.3656534077034961\n",
      "  (5, 12)\t0.3656534077034961\n",
      "  (5, 5)\t0.3656534077034961\n",
      "  (5, 2)\t0.25314639646604836\n"
     ]
    }
   ],
   "source": [
    "print(x_tfidf)"
   ]
  },
  {
   "cell_type": "code",
   "execution_count": 62,
   "id": "cbce2b9c",
   "metadata": {},
   "outputs": [
    {
     "data": {
      "text/plain": [
       "['2019',\n",
       " 'alir',\n",
       " 'curang',\n",
       " 'dukung',\n",
       " 'kaya',\n",
       " 'klo',\n",
       " 'kuat',\n",
       " 'lah',\n",
       " 'liat',\n",
       " 'main',\n",
       " 'makin',\n",
       " 'ngeri',\n",
       " 'paksa',\n",
       " 'putar',\n",
       " 'ricuh',\n",
       " 'satu',\n",
       " 'sekarang',\n",
       " 'suasana',\n",
       " 'takut',\n",
       " 'tambah',\n",
       " 'terus',\n",
       " 'tetap',\n",
       " 'udah']"
      ]
     },
     "execution_count": 62,
     "metadata": {},
     "output_type": "execute_result"
    }
   ],
   "source": [
    "tfidf_vectorizer.get_feature_names()"
   ]
  },
  {
   "cell_type": "code",
   "execution_count": null,
   "id": "f429811e",
   "metadata": {},
   "outputs": [],
   "source": []
  }
 ],
 "metadata": {
  "kernelspec": {
   "display_name": "Python 3 (ipykernel)",
   "language": "python",
   "name": "python3"
  },
  "language_info": {
   "codemirror_mode": {
    "name": "ipython",
    "version": 3
   },
   "file_extension": ".py",
   "mimetype": "text/x-python",
   "name": "python",
   "nbconvert_exporter": "python",
   "pygments_lexer": "ipython3",
   "version": "3.10.7"
  }
 },
 "nbformat": 4,
 "nbformat_minor": 5
}
